{
  "metadata": {
    "kernelspec": {
      "name": "python",
      "display_name": "Python (Pyodide)",
      "language": "python"
    },
    "language_info": {
      "codemirror_mode": {
        "name": "python",
        "version": 3
      },
      "file_extension": ".py",
      "mimetype": "text/x-python",
      "name": "python",
      "nbconvert_exporter": "python",
      "pygments_lexer": "ipython3",
      "version": "3.8"
    }
  },
  "nbformat_minor": 5,
  "nbformat": 4,
  "cells": [
    {
      "cell_type": "markdown",
      "source": "# all method that 🐼pandas lets you use on a DataFrame\n\nhttps://www.w3schools.com/python/pandas/pandas_ref_dataframe.asp",
      "metadata": {
        "tags": []
      },
      "id": "db39bea8-84c9-4152-9317-2ef540204d22"
    },
    {
      "cell_type": "code",
      "source": "import pandas as pd",
      "metadata": {},
      "execution_count": null,
      "outputs": [],
      "id": "9ec0997f-4097-4f9e-b3e3-189255003f00"
    },
    {
      "cell_type": "markdown",
      "source": "## WHAT  is a series?\nseries is like a column in a table. It is a one dimensional array that can hold data of any type",
      "metadata": {},
      "id": "5277598a-67dc-4ae1-b37f-a18c338f94a9"
    },
    {
      "cell_type": "code",
      "source": "a = [1,2,4]\nmyvary = pd.Series(a, index = [\"x\", \"y\", \"z\"])\nprint(myvary)\n",
      "metadata": {
        "trusted": true
      },
      "execution_count": 44,
      "outputs": [
        {
          "name": "stdout",
          "text": "x    1\ny    2\nz    4\ndtype: int64\n",
          "output_type": "stream"
        }
      ],
      "id": "5ad88ded-1685-4782-aadc-24011d4a53aa"
    },
    {
      "cell_type": "markdown",
      "source": "adding indext is creating a label\n\n##### you can also convert a dictionary into a series\n",
      "metadata": {},
      "id": "a3c1325b-db1e-4529-a898-bcc94093d9a1"
    },
    {
      "cell_type": "code",
      "source": "calories = {\"day1\": 420, \"day2\": 380, \"day3\": 390}\n\nmyvar = pd.Series(calories)\nprint(myvar)",
      "metadata": {
        "trusted": true
      },
      "execution_count": 14,
      "outputs": [
        {
          "name": "stdout",
          "text": "day1    420\nday2    380\nday3    390\ndtype: int64\n",
          "output_type": "stream"
        }
      ],
      "id": "b2b9f065-8dae-41ff-baf2-baa0afa406db"
    },
    {
      "cell_type": "markdown",
      "source": "# Dataframes\nusually multi-dimensional tables \nseries is like a column, a data frame is the whole table\nhaving columns and rows ",
      "metadata": {},
      "id": "60342031-ec2d-4faa-b9e4-3876136ec9a5"
    },
    {
      "cell_type": "code",
      "source": "data = {\n  \"calories\": [420, 380, 390],\n  \"duration\": [50, 40, 45]\n}\n\n#load data into a DataFrame object:\ndf = pd.DataFrame(data)\n\nprint(df) ",
      "metadata": {
        "trusted": true
      },
      "execution_count": 15,
      "outputs": [
        {
          "name": "stdout",
          "text": "   calories  duration\n0       420        50\n1       380        40\n2       390        45\n",
          "output_type": "stream"
        }
      ],
      "id": "b444b544-8fda-4cab-a2a3-6dd1dd365e34"
    },
    {
      "cell_type": "markdown",
      "source": "loc returns a specific row\njust insert index\nreturning a series",
      "metadata": {},
      "id": "4150a313-3774-4712-970e-9a130637072a"
    },
    {
      "cell_type": "code",
      "source": "print(df.loc[0])",
      "metadata": {
        "trusted": true
      },
      "execution_count": 20,
      "outputs": [
        {
          "name": "stdout",
          "text": "calories    420\nduration     50\nName: 0, dtype: int64\n",
          "output_type": "stream"
        }
      ],
      "id": "cf0ad6ff-4e21-4663-9a04-fc7bf7779ac4"
    },
    {
      "cell_type": "markdown",
      "source": "using double brackets will return a dataframe\nwhichi in this case is the first two values of the dataframe",
      "metadata": {},
      "id": "dfb8e88e-330c-49e7-8d88-bf3a0d854db8"
    },
    {
      "cell_type": "code",
      "source": "print(df.loc[[0,1]])",
      "metadata": {},
      "execution_count": null,
      "outputs": [
        {
          "name": "stdout",
          "text": "   calories  duration\n0       420        50\n1       380        40\n",
          "output_type": "stream"
        }
      ],
      "id": "7b4dfca5-8fb7-4d6c-976e-6cbfdb2dcfda"
    },
    {
      "cell_type": "markdown",
      "source": "# import files and Reading CSV Files",
      "metadata": {},
      "id": "16bc5458-ba7b-4ab8-a17c-4a5fc39d0e28"
    },
    {
      "cell_type": "code",
      "source": "df = pd.read_csv('data.csv')\nprint(df.to_string()) ",
      "metadata": {},
      "execution_count": null,
      "outputs": [],
      "id": "fb9135ef-e837-4a11-affc-74f18a93f8c8"
    },
    {
      "cell_type": "markdown",
      "source": "To check the max number of rows print will show you can use\nyou can increase this same = #",
      "metadata": {},
      "id": "1f2fa3a5-f898-4a1e-94b6-3f8a8ca6635f"
    },
    {
      "cell_type": "code",
      "source": "pd.options.display.max_rows",
      "metadata": {
        "trusted": true
      },
      "execution_count": 28,
      "outputs": [
        {
          "execution_count": 28,
          "output_type": "execute_result",
          "data": {
            "text/plain": "60"
          },
          "metadata": {}
        }
      ],
      "id": "91d8a21e-2ba2-48f6-9fba-a5e469499c3f"
    },
    {
      "cell_type": "markdown",
      "source": "# import json files can also be done using pandas",
      "metadata": {},
      "id": "27f13823-d98c-426d-9101-3e97f52e812d"
    },
    {
      "cell_type": "code",
      "source": "\n#df = pd.read_json('data.json')\n\n#print(df.to_string()) ",
      "metadata": {
        "trusted": true
      },
      "execution_count": 29,
      "outputs": [],
      "id": "eba60b0f-9f94-4b92-bd55-d587466918ca"
    },
    {
      "cell_type": "markdown",
      "source": "again the data can that is in dictionary form can be turned into a datafram",
      "metadata": {},
      "id": "fe88de71-120f-4b50-ae4f-55faf2e83003"
    },
    {
      "cell_type": "markdown",
      "source": "## quick view data can be done using ",
      "metadata": {},
      "id": "a7a8c2a6-d047-49fb-9c35-b74134f1949c"
    },
    {
      "cell_type": "code",
      "source": "print(df.head())",
      "metadata": {
        "trusted": true
      },
      "execution_count": 30,
      "outputs": [
        {
          "name": "stdout",
          "text": "   calories  duration\n0       420        50\n1       380        40\n2       390        45\n",
          "output_type": "stream"
        }
      ],
      "id": "0a288b6e-4cbc-4b15-8a9f-5e1835630a99"
    },
    {
      "cell_type": "markdown",
      "source": "### can also be used on info() to get more information",
      "metadata": {},
      "id": "f1b8b78e-2f62-4bf0-a248-e3440580a103"
    },
    {
      "cell_type": "code",
      "source": "df.info()",
      "metadata": {
        "trusted": true
      },
      "execution_count": 36,
      "outputs": [
        {
          "name": "stdout",
          "text": "<class 'pandas.core.frame.DataFrame'>\nRangeIndex: 3 entries, 0 to 2\nData columns (total 2 columns):\n #   Column    Non-Null Count  Dtype\n---  ------    --------------  -----\n 0   calories  3 non-null      int64\n 1   duration  3 non-null      int64\ndtypes: int64(2)\nmemory usage: 120.0 bytes\n",
          "output_type": "stream"
        }
      ],
      "id": "41cf70fe-a52d-4117-8feb-314aa8d42573"
    },
    {
      "cell_type": "code",
      "source": "df",
      "metadata": {
        "trusted": true
      },
      "execution_count": 41,
      "outputs": [
        {
          "execution_count": 41,
          "output_type": "execute_result",
          "data": {
            "text/plain": "   calories  duration\n0       420        50\n1       380        40\n2       390        45",
            "text/html": "<div>\n<style scoped>\n    .dataframe tbody tr th:only-of-type {\n        vertical-align: middle;\n    }\n\n    .dataframe tbody tr th {\n        vertical-align: top;\n    }\n\n    .dataframe thead th {\n        text-align: right;\n    }\n</style>\n<table border=\"1\" class=\"dataframe\">\n  <thead>\n    <tr style=\"text-align: right;\">\n      <th></th>\n      <th>calories</th>\n      <th>duration</th>\n    </tr>\n  </thead>\n  <tbody>\n    <tr>\n      <th>0</th>\n      <td>420</td>\n      <td>50</td>\n    </tr>\n    <tr>\n      <th>1</th>\n      <td>380</td>\n      <td>40</td>\n    </tr>\n    <tr>\n      <th>2</th>\n      <td>390</td>\n      <td>45</td>\n    </tr>\n  </tbody>\n</table>\n</div>"
          },
          "metadata": {}
        }
      ],
      "id": "f15b5623-c0fd-4cb6-ae47-0d684aa8e1d8"
    },
    {
      "cell_type": "markdown",
      "source": "# Cleaning data using pandas\n\nData cleaning means fixing bad data in your data set.\n\nBad data could be:\n\nEmpty cells\nData in wrong format\nWrong data\nDuplicates",
      "metadata": {},
      "id": "f3b74a5f-294d-4c13-aec1-11483646309e"
    },
    {
      "cell_type": "markdown",
      "source": "### removing rows:\ndeal with empty cells is to remove rows that conatin empty cells\n",
      "metadata": {},
      "id": "fd92ebf4-126a-4bba-aaa1-32596f7f1476"
    },
    {
      "cell_type": "code",
      "source": "new_df = df.dropna()",
      "metadata": {},
      "execution_count": null,
      "outputs": [],
      "id": "f742faa7-3add-4f8d-8542-2268bd3864dd"
    },
    {
      "cell_type": "markdown",
      "source": "will not replace or change the OG dataframe, it just returns a new one\n\nif you want to you have to us ",
      "metadata": {},
      "id": "dfdb9723-c50b-4304-a6c8-b20735c3acd3"
    },
    {
      "cell_type": "code",
      "source": "df.dropna(inplace = True)",
      "metadata": {},
      "execution_count": null,
      "outputs": [],
      "id": "45d62428-030c-4744-8c38-019ff8b0a212"
    },
    {
      "cell_type": "markdown",
      "source": "you can also replace specific NULL values in a column",
      "metadata": {},
      "id": "365ddafd-2b37-4537-9aec-e8fe3d48324d"
    },
    {
      "cell_type": "code",
      "source": "df['calories'].fillna(120, inplace = True)",
      "metadata": {},
      "execution_count": null,
      "outputs": [],
      "id": "4803f163-110e-4d63-8e5a-90fe37cd93d7"
    },
    {
      "cell_type": "markdown",
      "source": "this makes every null values in the column calories with the values of 120",
      "metadata": {},
      "id": "85f952d3-70ec-4cbc-9a1d-a842d5092d87"
    },
    {
      "cell_type": "markdown",
      "source": "### many times a rows with a null value is not removed but replaced with the mean, median or mode, This preserves the data without allowing for null values",
      "metadata": {},
      "id": "dfc9df9d-7360-4f77-a117-a6bbcff6c418"
    },
    {
      "cell_type": "code",
      "source": "x = df[\"Calories\"].mean()\n\ndf[\"Calories\"].fillna(x, inplace = True)",
      "metadata": {
        "trusted": true
      },
      "execution_count": 43,
      "outputs": [],
      "id": "2ac08145-192b-40c4-a172-c6c4d1e23d90"
    },
    {
      "cell_type": "markdown",
      "source": "# fixing wrong format data",
      "metadata": {},
      "id": "affbc59a-9758-41fb-acb6-1d83e355e933"
    },
    {
      "cell_type": "code",
      "source": "df = pd.read_csv('data.csv')\n\ndf['Date'] = pd.to_datetime(df['Date'])\n\nprint(df.to_string())",
      "metadata": {},
      "execution_count": null,
      "outputs": [],
      "id": "e2a6a45b-bc30-46f2-8404-ad416b5ef0fd"
    },
    {
      "cell_type": "markdown",
      "source": "you can also replace values, wrong values that don't make sense",
      "metadata": {},
      "id": "4aa0c642-b74d-4940-b707-1b936ff8dd11"
    },
    {
      "cell_type": "code",
      "source": "df.loc[7, 'Duration'] = 45",
      "metadata": {},
      "execution_count": null,
      "outputs": [],
      "id": "65d9a37c-cc2e-4e50-9c63-8e7d29e4bd55"
    },
    {
      "cell_type": "markdown",
      "source": "this replaces row 7, column duration, changes value to 45",
      "metadata": {},
      "id": "bd9af374-d861-46f8-9f17-601e881b16e1"
    },
    {
      "cell_type": "code",
      "source": "for x in df.index:\n  if df.loc[x, \"Duration\"] > 120:\n    df.loc[x, \"Duration\"] = 120",
      "metadata": {},
      "execution_count": null,
      "outputs": [],
      "id": "8ac8fc03-399c-4dd0-9b47-ce92be3968aa"
    },
    {
      "cell_type": "markdown",
      "source": "replaces the values geater than 120, in the column duration with the the values that makes sense 120",
      "metadata": {},
      "id": "c3686de8-3a85-4d43-91b3-2de40efe30d6"
    },
    {
      "cell_type": "markdown",
      "source": "## removing dupicates\ncan be simples",
      "metadata": {},
      "id": "0d33932d-833a-4e46-a95e-de2177b1393a"
    },
    {
      "cell_type": "code",
      "source": "print(df.duplicated()) # print boolean values if their exist duplicates\ndf.drop_duplicates(inplace = True)",
      "metadata": {},
      "execution_count": null,
      "outputs": [],
      "id": "03703218-d63f-4d3d-a858-4674cc4ed1ff"
    },
    {
      "cell_type": "markdown",
      "source": "# correlation \ndetermining if a relationship existes between columns\nvalues from 1 to -1\n1 being positives 1 to 1 correlation, if one goes up the other goes up\n-1 values being negatives correlation, one goes down the other goes up\nif the values is close to 0 then their is no or very little relationship or correlation",
      "metadata": {},
      "id": "d3c64e0c-fb28-4981-9144-a598f404ef86"
    },
    {
      "cell_type": "code",
      "source": "df.corr()",
      "metadata": {},
      "execution_count": null,
      "outputs": [],
      "id": "69ee8794-0fe8-4048-9dd3-751c83dd2d1c"
    }
  ]
}