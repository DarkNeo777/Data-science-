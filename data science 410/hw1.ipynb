{
  "metadata": {
    "language_info": {
      "codemirror_mode": {
        "name": "python",
        "version": 3
      },
      "file_extension": ".py",
      "mimetype": "text/x-python",
      "name": "python",
      "nbconvert_exporter": "python",
      "pygments_lexer": "ipython3",
      "version": "3.8"
    },
    "kernelspec": {
      "name": "python",
      "display_name": "Python (Pyodide)",
      "language": "python"
    }
  },
  "nbformat_minor": 4,
  "nbformat": 4,
  "cells": [
    {
      "cell_type": "markdown",
      "source": "### Q1(30 point): Implement a class for n-sided polygons and a class for points in a Euclidean system, namely polygon and point respectively. For example, a 4-sided polygon can be defined by 4 points P1, P2, P3, P4, and P1-P4 are each points of the form point(X,Y), and X and Y are coordinates on the X and Y axis, respectively. The edges are listed counterclockwise starting at the lower left: P1 to P2, P2 to P3, P3 to P4, and P4 to P1. The polygon class should work for polygons of any number of edges and have a function perimeter that returns its perimeter (sum of the lengths of the edges). (20points)",
      "metadata": {}
    },
    {
      "cell_type": "code",
      "source": "import numpy as np\nimport pandas as pd\nimport math\n\nclass Point:\n    def __init__(self, x, y):\n        self.x = x\n        self.y = y\n\nclass Polygon:\n    def __init__(self, points):\n        self.points = points\n\n    def edge_length(self, p1, p2):\n        #uses pythagorean theorem to calculate the length\n        return math.sqrt((p1.x - p2.x) ** 2 + (p1.y - p2.y) ** 2)\n\n    def perimeter(self):\n    \n        num_points = len(self.points)\n        total_length = 0\n        # loop to find the perimeter by summing all the edges\n        for i in range(num_points):\n            total_length += self.edge_length(self.points[i], self.points[(i + 1) % num_points])\n\n        return round(total_length, 1)\n\npoint1 = Point(1, 1)\npoint2 = Point(1, 2)\npoint3 = Point(2, 2)\n\ntriangle = Polygon([point1, point2, point3])\n\npoint4 = Point(2, 1)\npoint5 = Point(2, 3)\npoint6 = Point(6, 3)\npoint7 = Point(4, 1)\n\nfour_sided = Polygon([point4, point5, point6, point7])\n\nprint(f\"The perimeter of the triangle is {triangle.perimeter()}\")\nprint(f\"The perimeter of the foursided polygon is {four_sided.perimeter()}\")\n",
      "metadata": {},
      "execution_count": null,
      "outputs": [
        {
          "name": "stdout",
          "text": "The perimeter of the triangle is 3.4\nThe perimeter of the foursided polygon is 10.8\n",
          "output_type": "stream"
        }
      ]
    },
    {
      "cell_type": "markdown",
      "source": "### Use Pandas to load both data/AIS/transit_segments.csv, and data/AIS/vessel_information.csv. Show the first 5 rows of each dataset to inspect it.(10points)",
      "metadata": {}
    },
    {
      "cell_type": "code",
      "source": "transit_data = pd.read_csv('transit_segments.csv')\nvessel_data = pd.read_csv('vessel_information.csv')\n\ntransit_data.head(5)",
      "metadata": {
        "trusted": true
      },
      "execution_count": 4,
      "outputs": [
        {
          "execution_count": 4,
          "output_type": "execute_result",
          "data": {
            "text/plain": "   mmsi               name  transit  segment  seg_length  avg_sog  min_sog  \\\n0     1        Us Govt Ves        1        1         5.1     13.2      9.2   \n1     1  Dredge Capt Frank        1        1        13.5     18.6     10.4   \n2     1      Us Gov Vessel        1        1         4.3     16.2     10.3   \n3     1      Us Gov Vessel        2        1         9.2     15.4     14.5   \n4     1  Dredge Capt Frank        2        1         9.2     15.4     14.6   \n\n   max_sog  pdgt10        st_time       end_time  \n0     14.5    96.5  2/10/09 16:03  2/10/09 16:27  \n1     20.6   100.0   4/6/09 14:31   4/6/09 15:20  \n2     20.5   100.0   4/6/09 14:36   4/6/09 14:55  \n3     16.1   100.0  4/10/09 17:58  4/10/09 18:34  \n4     16.2   100.0  4/10/09 17:59  4/10/09 18:35  ",
            "text/html": "<div>\n<style scoped>\n    .dataframe tbody tr th:only-of-type {\n        vertical-align: middle;\n    }\n\n    .dataframe tbody tr th {\n        vertical-align: top;\n    }\n\n    .dataframe thead th {\n        text-align: right;\n    }\n</style>\n<table border=\"1\" class=\"dataframe\">\n  <thead>\n    <tr style=\"text-align: right;\">\n      <th></th>\n      <th>mmsi</th>\n      <th>name</th>\n      <th>transit</th>\n      <th>segment</th>\n      <th>seg_length</th>\n      <th>avg_sog</th>\n      <th>min_sog</th>\n      <th>max_sog</th>\n      <th>pdgt10</th>\n      <th>st_time</th>\n      <th>end_time</th>\n    </tr>\n  </thead>\n  <tbody>\n    <tr>\n      <th>0</th>\n      <td>1</td>\n      <td>Us Govt Ves</td>\n      <td>1</td>\n      <td>1</td>\n      <td>5.1</td>\n      <td>13.2</td>\n      <td>9.2</td>\n      <td>14.5</td>\n      <td>96.5</td>\n      <td>2/10/09 16:03</td>\n      <td>2/10/09 16:27</td>\n    </tr>\n    <tr>\n      <th>1</th>\n      <td>1</td>\n      <td>Dredge Capt Frank</td>\n      <td>1</td>\n      <td>1</td>\n      <td>13.5</td>\n      <td>18.6</td>\n      <td>10.4</td>\n      <td>20.6</td>\n      <td>100.0</td>\n      <td>4/6/09 14:31</td>\n      <td>4/6/09 15:20</td>\n    </tr>\n    <tr>\n      <th>2</th>\n      <td>1</td>\n      <td>Us Gov Vessel</td>\n      <td>1</td>\n      <td>1</td>\n      <td>4.3</td>\n      <td>16.2</td>\n      <td>10.3</td>\n      <td>20.5</td>\n      <td>100.0</td>\n      <td>4/6/09 14:36</td>\n      <td>4/6/09 14:55</td>\n    </tr>\n    <tr>\n      <th>3</th>\n      <td>1</td>\n      <td>Us Gov Vessel</td>\n      <td>2</td>\n      <td>1</td>\n      <td>9.2</td>\n      <td>15.4</td>\n      <td>14.5</td>\n      <td>16.1</td>\n      <td>100.0</td>\n      <td>4/10/09 17:58</td>\n      <td>4/10/09 18:34</td>\n    </tr>\n    <tr>\n      <th>4</th>\n      <td>1</td>\n      <td>Dredge Capt Frank</td>\n      <td>2</td>\n      <td>1</td>\n      <td>9.2</td>\n      <td>15.4</td>\n      <td>14.6</td>\n      <td>16.2</td>\n      <td>100.0</td>\n      <td>4/10/09 17:59</td>\n      <td>4/10/09 18:35</td>\n    </tr>\n  </tbody>\n</table>\n</div>"
          },
          "metadata": {}
        }
      ]
    },
    {
      "cell_type": "code",
      "source": "vessel_data.head(5)",
      "metadata": {
        "trusted": true
      },
      "execution_count": 5,
      "outputs": [
        {
          "execution_count": 5,
          "output_type": "execute_result",
          "data": {
            "text/plain": "   mmsi  num_names                                              names sov  \\\n0     1          8  Bil Holman Dredge/Dredge Capt Frank/Emo/Offsho...   Y   \n1     9          3                         000000009/Raven/Shearwater   N   \n2    21          1                                      Us Gov Vessel   Y   \n3    74          2                                  Mcfaul/Sarah Bell   N   \n4   103          3           Ron G/Us Navy Warship 103/Us Warship 103   Y   \n\n      flag flag_type  num_loas                                    loa  \\\n0  Unknown   Unknown         7  42.0/48.0/57.0/90.0/138.0/154.0/156.0   \n1  Unknown   Unknown         2                              50.0/62.0   \n2  Unknown   Unknown         1                                  208.0   \n3  Unknown   Unknown         1                                  155.0   \n4  Unknown   Unknown         2                             26.0/155.0   \n\n   max_loa  num_types                             type  \n0    156.0          4  Dredging/MilOps/Reserved/Towing  \n1     62.0          2                     Pleasure/Tug  \n2    208.0          1                          Unknown  \n3    155.0          1                          Unknown  \n4    155.0          2                   Tanker/Unknown  ",
            "text/html": "<div>\n<style scoped>\n    .dataframe tbody tr th:only-of-type {\n        vertical-align: middle;\n    }\n\n    .dataframe tbody tr th {\n        vertical-align: top;\n    }\n\n    .dataframe thead th {\n        text-align: right;\n    }\n</style>\n<table border=\"1\" class=\"dataframe\">\n  <thead>\n    <tr style=\"text-align: right;\">\n      <th></th>\n      <th>mmsi</th>\n      <th>num_names</th>\n      <th>names</th>\n      <th>sov</th>\n      <th>flag</th>\n      <th>flag_type</th>\n      <th>num_loas</th>\n      <th>loa</th>\n      <th>max_loa</th>\n      <th>num_types</th>\n      <th>type</th>\n    </tr>\n  </thead>\n  <tbody>\n    <tr>\n      <th>0</th>\n      <td>1</td>\n      <td>8</td>\n      <td>Bil Holman Dredge/Dredge Capt Frank/Emo/Offsho...</td>\n      <td>Y</td>\n      <td>Unknown</td>\n      <td>Unknown</td>\n      <td>7</td>\n      <td>42.0/48.0/57.0/90.0/138.0/154.0/156.0</td>\n      <td>156.0</td>\n      <td>4</td>\n      <td>Dredging/MilOps/Reserved/Towing</td>\n    </tr>\n    <tr>\n      <th>1</th>\n      <td>9</td>\n      <td>3</td>\n      <td>000000009/Raven/Shearwater</td>\n      <td>N</td>\n      <td>Unknown</td>\n      <td>Unknown</td>\n      <td>2</td>\n      <td>50.0/62.0</td>\n      <td>62.0</td>\n      <td>2</td>\n      <td>Pleasure/Tug</td>\n    </tr>\n    <tr>\n      <th>2</th>\n      <td>21</td>\n      <td>1</td>\n      <td>Us Gov Vessel</td>\n      <td>Y</td>\n      <td>Unknown</td>\n      <td>Unknown</td>\n      <td>1</td>\n      <td>208.0</td>\n      <td>208.0</td>\n      <td>1</td>\n      <td>Unknown</td>\n    </tr>\n    <tr>\n      <th>3</th>\n      <td>74</td>\n      <td>2</td>\n      <td>Mcfaul/Sarah Bell</td>\n      <td>N</td>\n      <td>Unknown</td>\n      <td>Unknown</td>\n      <td>1</td>\n      <td>155.0</td>\n      <td>155.0</td>\n      <td>1</td>\n      <td>Unknown</td>\n    </tr>\n    <tr>\n      <th>4</th>\n      <td>103</td>\n      <td>3</td>\n      <td>Ron G/Us Navy Warship 103/Us Warship 103</td>\n      <td>Y</td>\n      <td>Unknown</td>\n      <td>Unknown</td>\n      <td>2</td>\n      <td>26.0/155.0</td>\n      <td>155.0</td>\n      <td>2</td>\n      <td>Tanker/Unknown</td>\n    </tr>\n  </tbody>\n</table>\n</div>"
          },
          "metadata": {}
        }
      ]
    },
    {
      "cell_type": "markdown",
      "source": "### For data/AIS/vessel_information.csv, keep only those rows with the type value occurring for at least 100 times in the datase",
      "metadata": {}
    },
    {
      "cell_type": "code",
      "source": "type_counts = vessel_data['type'].value_counts()\n\ndf_filtered = vessel_data[vessel_data['type'].isin(type_counts[type_counts >= 100].index)]\n\ndf_filtered",
      "metadata": {
        "trusted": true
      },
      "execution_count": 13,
      "outputs": [
        {
          "execution_count": 13,
          "output_type": "execute_result",
          "data": {
            "text/plain": "            mmsi  num_names               names sov                  flag  \\\n2             21          1       Us Gov Vessel   Y               Unknown   \n3             74          2   Mcfaul/Sarah Bell   N               Unknown   \n5            310          1            Arabella   N              Bermuda    \n6           3011          1          Charleston   N             Anguilla    \n7           4731          1           000004731   N  Yemen (Republic of)    \n...          ...        ...                 ...  ..                   ...   \n10762  866946820          1  Catherine Turecamo   N               Unknown   \n10764  888888888          1          Earl Jones   N               Unknown   \n10766  919191919          1                  Oi   N               Unknown   \n10768  975318642          1      Island Express   N               Unknown   \n10770  999999999          1   Triple Attraction   N               Unknown   \n\n      flag_type  num_loas       loa  max_loa  num_types      type  \n2       Unknown         1     208.0    208.0          1   Unknown  \n3       Unknown         1     155.0    155.0          1   Unknown  \n5       Foreign         1      47.0     47.0          1   Unknown  \n6       Foreign         1     160.0    160.0          1     Other  \n7       Foreign         1      30.0     30.0          1   Unknown  \n...         ...       ...       ...      ...        ...       ...  \n10762   Unknown         2  0.0/33.0     33.0          1       Tug  \n10764   Unknown         1      40.0     40.0          1    Towing  \n10766   Unknown         1      20.0     20.0          1  Pleasure  \n10768   Unknown         1      20.0     20.0          1    Towing  \n10770   Unknown         1      30.0     30.0          1  Pleasure  \n\n[9840 rows x 11 columns]",
            "text/html": "<div>\n<style scoped>\n    .dataframe tbody tr th:only-of-type {\n        vertical-align: middle;\n    }\n\n    .dataframe tbody tr th {\n        vertical-align: top;\n    }\n\n    .dataframe thead th {\n        text-align: right;\n    }\n</style>\n<table border=\"1\" class=\"dataframe\">\n  <thead>\n    <tr style=\"text-align: right;\">\n      <th></th>\n      <th>mmsi</th>\n      <th>num_names</th>\n      <th>names</th>\n      <th>sov</th>\n      <th>flag</th>\n      <th>flag_type</th>\n      <th>num_loas</th>\n      <th>loa</th>\n      <th>max_loa</th>\n      <th>num_types</th>\n      <th>type</th>\n    </tr>\n  </thead>\n  <tbody>\n    <tr>\n      <th>2</th>\n      <td>21</td>\n      <td>1</td>\n      <td>Us Gov Vessel</td>\n      <td>Y</td>\n      <td>Unknown</td>\n      <td>Unknown</td>\n      <td>1</td>\n      <td>208.0</td>\n      <td>208.0</td>\n      <td>1</td>\n      <td>Unknown</td>\n    </tr>\n    <tr>\n      <th>3</th>\n      <td>74</td>\n      <td>2</td>\n      <td>Mcfaul/Sarah Bell</td>\n      <td>N</td>\n      <td>Unknown</td>\n      <td>Unknown</td>\n      <td>1</td>\n      <td>155.0</td>\n      <td>155.0</td>\n      <td>1</td>\n      <td>Unknown</td>\n    </tr>\n    <tr>\n      <th>5</th>\n      <td>310</td>\n      <td>1</td>\n      <td>Arabella</td>\n      <td>N</td>\n      <td>Bermuda</td>\n      <td>Foreign</td>\n      <td>1</td>\n      <td>47.0</td>\n      <td>47.0</td>\n      <td>1</td>\n      <td>Unknown</td>\n    </tr>\n    <tr>\n      <th>6</th>\n      <td>3011</td>\n      <td>1</td>\n      <td>Charleston</td>\n      <td>N</td>\n      <td>Anguilla</td>\n      <td>Foreign</td>\n      <td>1</td>\n      <td>160.0</td>\n      <td>160.0</td>\n      <td>1</td>\n      <td>Other</td>\n    </tr>\n    <tr>\n      <th>7</th>\n      <td>4731</td>\n      <td>1</td>\n      <td>000004731</td>\n      <td>N</td>\n      <td>Yemen (Republic of)</td>\n      <td>Foreign</td>\n      <td>1</td>\n      <td>30.0</td>\n      <td>30.0</td>\n      <td>1</td>\n      <td>Unknown</td>\n    </tr>\n    <tr>\n      <th>...</th>\n      <td>...</td>\n      <td>...</td>\n      <td>...</td>\n      <td>...</td>\n      <td>...</td>\n      <td>...</td>\n      <td>...</td>\n      <td>...</td>\n      <td>...</td>\n      <td>...</td>\n      <td>...</td>\n    </tr>\n    <tr>\n      <th>10762</th>\n      <td>866946820</td>\n      <td>1</td>\n      <td>Catherine Turecamo</td>\n      <td>N</td>\n      <td>Unknown</td>\n      <td>Unknown</td>\n      <td>2</td>\n      <td>0.0/33.0</td>\n      <td>33.0</td>\n      <td>1</td>\n      <td>Tug</td>\n    </tr>\n    <tr>\n      <th>10764</th>\n      <td>888888888</td>\n      <td>1</td>\n      <td>Earl Jones</td>\n      <td>N</td>\n      <td>Unknown</td>\n      <td>Unknown</td>\n      <td>1</td>\n      <td>40.0</td>\n      <td>40.0</td>\n      <td>1</td>\n      <td>Towing</td>\n    </tr>\n    <tr>\n      <th>10766</th>\n      <td>919191919</td>\n      <td>1</td>\n      <td>Oi</td>\n      <td>N</td>\n      <td>Unknown</td>\n      <td>Unknown</td>\n      <td>1</td>\n      <td>20.0</td>\n      <td>20.0</td>\n      <td>1</td>\n      <td>Pleasure</td>\n    </tr>\n    <tr>\n      <th>10768</th>\n      <td>975318642</td>\n      <td>1</td>\n      <td>Island Express</td>\n      <td>N</td>\n      <td>Unknown</td>\n      <td>Unknown</td>\n      <td>1</td>\n      <td>20.0</td>\n      <td>20.0</td>\n      <td>1</td>\n      <td>Towing</td>\n    </tr>\n    <tr>\n      <th>10770</th>\n      <td>999999999</td>\n      <td>1</td>\n      <td>Triple Attraction</td>\n      <td>N</td>\n      <td>Unknown</td>\n      <td>Unknown</td>\n      <td>1</td>\n      <td>30.0</td>\n      <td>30.0</td>\n      <td>1</td>\n      <td>Pleasure</td>\n    </tr>\n  </tbody>\n</table>\n<p>9840 rows × 11 columns</p>\n</div>"
          },
          "metadata": {}
        }
      ]
    },
    {
      "cell_type": "markdown",
      "source": "### Merge data/AIS/vessel_information.csv and data/AIS/transit_segments.csv on the \"mmsi\" column using outer join",
      "metadata": {}
    },
    {
      "cell_type": "code",
      "source": "merged_df = pd.merge(transit_data, vessel_data, on='mmsi', how='inner')",
      "metadata": {
        "trusted": true
      },
      "execution_count": 15,
      "outputs": []
    },
    {
      "cell_type": "markdown",
      "source": "### If you are not allowed to call the inner join provided by Pandas but have the above outer join results, how to get the results of inner join? You can use other functions provided by Pandas (but not a function that directly implements the inner join). (10points)",
      "metadata": {}
    },
    {
      "cell_type": "code",
      "source": "inner_join1 = merged_df.dropna()\ninner_join1",
      "metadata": {
        "trusted": true
      },
      "execution_count": 21,
      "outputs": [
        {
          "execution_count": 21,
          "output_type": "execute_result",
          "data": {
            "text/plain": "             mmsi               name  transit  segment  seg_length  avg_sog  \\\n0               1        Us Govt Ves        1        1         5.1     13.2   \n1               1  Dredge Capt Frank        1        1        13.5     18.6   \n2               1      Us Gov Vessel        1        1         4.3     16.2   \n3               1      Us Gov Vessel        2        1         9.2     15.4   \n4               1  Dredge Capt Frank        2        1         9.2     15.4   \n...           ...                ...      ...      ...         ...      ...   \n262348  999999999  Triple Attraction        3        1         5.3     20.0   \n262349  999999999  Triple Attraction        4        1        18.7     19.2   \n262350  999999999  Triple Attraction        6        1        17.4     17.0   \n262351  999999999  Triple Attraction        7        1        31.5     14.2   \n262352  999999999  Triple Attraction        8        1        19.8     18.6   \n\n        min_sog  max_sog  pdgt10        st_time  ... num_names  \\\n0           9.2     14.5    96.5  2/10/09 16:03  ...         8   \n1          10.4     20.6   100.0   4/6/09 14:31  ...         8   \n2          10.3     20.5   100.0   4/6/09 14:36  ...         8   \n3          14.5     16.1   100.0  4/10/09 17:58  ...         8   \n4          14.6     16.2   100.0  4/10/09 17:59  ...         8   \n...         ...      ...     ...            ...  ...       ...   \n262348     19.6     20.4   100.0  6/15/10 12:49  ...         1   \n262349     18.4     19.9   100.0  6/15/10 21:32  ...         1   \n262350     14.7     18.4   100.0  6/17/10 19:16  ...         1   \n262351     13.4     15.1   100.0   6/18/10 2:52  ...         1   \n262352     16.1     19.5   100.0  6/18/10 10:19  ...         1   \n\n                                                    names sov     flag  \\\n0       Bil Holman Dredge/Dredge Capt Frank/Emo/Offsho...   Y  Unknown   \n1       Bil Holman Dredge/Dredge Capt Frank/Emo/Offsho...   Y  Unknown   \n2       Bil Holman Dredge/Dredge Capt Frank/Emo/Offsho...   Y  Unknown   \n3       Bil Holman Dredge/Dredge Capt Frank/Emo/Offsho...   Y  Unknown   \n4       Bil Holman Dredge/Dredge Capt Frank/Emo/Offsho...   Y  Unknown   \n...                                                   ...  ..      ...   \n262348                                  Triple Attraction   N  Unknown   \n262349                                  Triple Attraction   N  Unknown   \n262350                                  Triple Attraction   N  Unknown   \n262351                                  Triple Attraction   N  Unknown   \n262352                                  Triple Attraction   N  Unknown   \n\n       flag_type num_loas                                    loa max_loa  \\\n0        Unknown        7  42.0/48.0/57.0/90.0/138.0/154.0/156.0   156.0   \n1        Unknown        7  42.0/48.0/57.0/90.0/138.0/154.0/156.0   156.0   \n2        Unknown        7  42.0/48.0/57.0/90.0/138.0/154.0/156.0   156.0   \n3        Unknown        7  42.0/48.0/57.0/90.0/138.0/154.0/156.0   156.0   \n4        Unknown        7  42.0/48.0/57.0/90.0/138.0/154.0/156.0   156.0   \n...          ...      ...                                    ...     ...   \n262348   Unknown        1                                   30.0    30.0   \n262349   Unknown        1                                   30.0    30.0   \n262350   Unknown        1                                   30.0    30.0   \n262351   Unknown        1                                   30.0    30.0   \n262352   Unknown        1                                   30.0    30.0   \n\n        num_types                             type  \n0               4  Dredging/MilOps/Reserved/Towing  \n1               4  Dredging/MilOps/Reserved/Towing  \n2               4  Dredging/MilOps/Reserved/Towing  \n3               4  Dredging/MilOps/Reserved/Towing  \n4               4  Dredging/MilOps/Reserved/Towing  \n...           ...                              ...  \n262348          1                         Pleasure  \n262349          1                         Pleasure  \n262350          1                         Pleasure  \n262351          1                         Pleasure  \n262352          1                         Pleasure  \n\n[262353 rows x 21 columns]",
            "text/html": "<div>\n<style scoped>\n    .dataframe tbody tr th:only-of-type {\n        vertical-align: middle;\n    }\n\n    .dataframe tbody tr th {\n        vertical-align: top;\n    }\n\n    .dataframe thead th {\n        text-align: right;\n    }\n</style>\n<table border=\"1\" class=\"dataframe\">\n  <thead>\n    <tr style=\"text-align: right;\">\n      <th></th>\n      <th>mmsi</th>\n      <th>name</th>\n      <th>transit</th>\n      <th>segment</th>\n      <th>seg_length</th>\n      <th>avg_sog</th>\n      <th>min_sog</th>\n      <th>max_sog</th>\n      <th>pdgt10</th>\n      <th>st_time</th>\n      <th>...</th>\n      <th>num_names</th>\n      <th>names</th>\n      <th>sov</th>\n      <th>flag</th>\n      <th>flag_type</th>\n      <th>num_loas</th>\n      <th>loa</th>\n      <th>max_loa</th>\n      <th>num_types</th>\n      <th>type</th>\n    </tr>\n  </thead>\n  <tbody>\n    <tr>\n      <th>0</th>\n      <td>1</td>\n      <td>Us Govt Ves</td>\n      <td>1</td>\n      <td>1</td>\n      <td>5.1</td>\n      <td>13.2</td>\n      <td>9.2</td>\n      <td>14.5</td>\n      <td>96.5</td>\n      <td>2/10/09 16:03</td>\n      <td>...</td>\n      <td>8</td>\n      <td>Bil Holman Dredge/Dredge Capt Frank/Emo/Offsho...</td>\n      <td>Y</td>\n      <td>Unknown</td>\n      <td>Unknown</td>\n      <td>7</td>\n      <td>42.0/48.0/57.0/90.0/138.0/154.0/156.0</td>\n      <td>156.0</td>\n      <td>4</td>\n      <td>Dredging/MilOps/Reserved/Towing</td>\n    </tr>\n    <tr>\n      <th>1</th>\n      <td>1</td>\n      <td>Dredge Capt Frank</td>\n      <td>1</td>\n      <td>1</td>\n      <td>13.5</td>\n      <td>18.6</td>\n      <td>10.4</td>\n      <td>20.6</td>\n      <td>100.0</td>\n      <td>4/6/09 14:31</td>\n      <td>...</td>\n      <td>8</td>\n      <td>Bil Holman Dredge/Dredge Capt Frank/Emo/Offsho...</td>\n      <td>Y</td>\n      <td>Unknown</td>\n      <td>Unknown</td>\n      <td>7</td>\n      <td>42.0/48.0/57.0/90.0/138.0/154.0/156.0</td>\n      <td>156.0</td>\n      <td>4</td>\n      <td>Dredging/MilOps/Reserved/Towing</td>\n    </tr>\n    <tr>\n      <th>2</th>\n      <td>1</td>\n      <td>Us Gov Vessel</td>\n      <td>1</td>\n      <td>1</td>\n      <td>4.3</td>\n      <td>16.2</td>\n      <td>10.3</td>\n      <td>20.5</td>\n      <td>100.0</td>\n      <td>4/6/09 14:36</td>\n      <td>...</td>\n      <td>8</td>\n      <td>Bil Holman Dredge/Dredge Capt Frank/Emo/Offsho...</td>\n      <td>Y</td>\n      <td>Unknown</td>\n      <td>Unknown</td>\n      <td>7</td>\n      <td>42.0/48.0/57.0/90.0/138.0/154.0/156.0</td>\n      <td>156.0</td>\n      <td>4</td>\n      <td>Dredging/MilOps/Reserved/Towing</td>\n    </tr>\n    <tr>\n      <th>3</th>\n      <td>1</td>\n      <td>Us Gov Vessel</td>\n      <td>2</td>\n      <td>1</td>\n      <td>9.2</td>\n      <td>15.4</td>\n      <td>14.5</td>\n      <td>16.1</td>\n      <td>100.0</td>\n      <td>4/10/09 17:58</td>\n      <td>...</td>\n      <td>8</td>\n      <td>Bil Holman Dredge/Dredge Capt Frank/Emo/Offsho...</td>\n      <td>Y</td>\n      <td>Unknown</td>\n      <td>Unknown</td>\n      <td>7</td>\n      <td>42.0/48.0/57.0/90.0/138.0/154.0/156.0</td>\n      <td>156.0</td>\n      <td>4</td>\n      <td>Dredging/MilOps/Reserved/Towing</td>\n    </tr>\n    <tr>\n      <th>4</th>\n      <td>1</td>\n      <td>Dredge Capt Frank</td>\n      <td>2</td>\n      <td>1</td>\n      <td>9.2</td>\n      <td>15.4</td>\n      <td>14.6</td>\n      <td>16.2</td>\n      <td>100.0</td>\n      <td>4/10/09 17:59</td>\n      <td>...</td>\n      <td>8</td>\n      <td>Bil Holman Dredge/Dredge Capt Frank/Emo/Offsho...</td>\n      <td>Y</td>\n      <td>Unknown</td>\n      <td>Unknown</td>\n      <td>7</td>\n      <td>42.0/48.0/57.0/90.0/138.0/154.0/156.0</td>\n      <td>156.0</td>\n      <td>4</td>\n      <td>Dredging/MilOps/Reserved/Towing</td>\n    </tr>\n    <tr>\n      <th>...</th>\n      <td>...</td>\n      <td>...</td>\n      <td>...</td>\n      <td>...</td>\n      <td>...</td>\n      <td>...</td>\n      <td>...</td>\n      <td>...</td>\n      <td>...</td>\n      <td>...</td>\n      <td>...</td>\n      <td>...</td>\n      <td>...</td>\n      <td>...</td>\n      <td>...</td>\n      <td>...</td>\n      <td>...</td>\n      <td>...</td>\n      <td>...</td>\n      <td>...</td>\n      <td>...</td>\n    </tr>\n    <tr>\n      <th>262348</th>\n      <td>999999999</td>\n      <td>Triple Attraction</td>\n      <td>3</td>\n      <td>1</td>\n      <td>5.3</td>\n      <td>20.0</td>\n      <td>19.6</td>\n      <td>20.4</td>\n      <td>100.0</td>\n      <td>6/15/10 12:49</td>\n      <td>...</td>\n      <td>1</td>\n      <td>Triple Attraction</td>\n      <td>N</td>\n      <td>Unknown</td>\n      <td>Unknown</td>\n      <td>1</td>\n      <td>30.0</td>\n      <td>30.0</td>\n      <td>1</td>\n      <td>Pleasure</td>\n    </tr>\n    <tr>\n      <th>262349</th>\n      <td>999999999</td>\n      <td>Triple Attraction</td>\n      <td>4</td>\n      <td>1</td>\n      <td>18.7</td>\n      <td>19.2</td>\n      <td>18.4</td>\n      <td>19.9</td>\n      <td>100.0</td>\n      <td>6/15/10 21:32</td>\n      <td>...</td>\n      <td>1</td>\n      <td>Triple Attraction</td>\n      <td>N</td>\n      <td>Unknown</td>\n      <td>Unknown</td>\n      <td>1</td>\n      <td>30.0</td>\n      <td>30.0</td>\n      <td>1</td>\n      <td>Pleasure</td>\n    </tr>\n    <tr>\n      <th>262350</th>\n      <td>999999999</td>\n      <td>Triple Attraction</td>\n      <td>6</td>\n      <td>1</td>\n      <td>17.4</td>\n      <td>17.0</td>\n      <td>14.7</td>\n      <td>18.4</td>\n      <td>100.0</td>\n      <td>6/17/10 19:16</td>\n      <td>...</td>\n      <td>1</td>\n      <td>Triple Attraction</td>\n      <td>N</td>\n      <td>Unknown</td>\n      <td>Unknown</td>\n      <td>1</td>\n      <td>30.0</td>\n      <td>30.0</td>\n      <td>1</td>\n      <td>Pleasure</td>\n    </tr>\n    <tr>\n      <th>262351</th>\n      <td>999999999</td>\n      <td>Triple Attraction</td>\n      <td>7</td>\n      <td>1</td>\n      <td>31.5</td>\n      <td>14.2</td>\n      <td>13.4</td>\n      <td>15.1</td>\n      <td>100.0</td>\n      <td>6/18/10 2:52</td>\n      <td>...</td>\n      <td>1</td>\n      <td>Triple Attraction</td>\n      <td>N</td>\n      <td>Unknown</td>\n      <td>Unknown</td>\n      <td>1</td>\n      <td>30.0</td>\n      <td>30.0</td>\n      <td>1</td>\n      <td>Pleasure</td>\n    </tr>\n    <tr>\n      <th>262352</th>\n      <td>999999999</td>\n      <td>Triple Attraction</td>\n      <td>8</td>\n      <td>1</td>\n      <td>19.8</td>\n      <td>18.6</td>\n      <td>16.1</td>\n      <td>19.5</td>\n      <td>100.0</td>\n      <td>6/18/10 10:19</td>\n      <td>...</td>\n      <td>1</td>\n      <td>Triple Attraction</td>\n      <td>N</td>\n      <td>Unknown</td>\n      <td>Unknown</td>\n      <td>1</td>\n      <td>30.0</td>\n      <td>30.0</td>\n      <td>1</td>\n      <td>Pleasure</td>\n    </tr>\n  </tbody>\n</table>\n<p>262353 rows × 21 columns</p>\n</div>"
          },
          "metadata": {}
        }
      ]
    },
    {
      "cell_type": "markdown",
      "source": "# Now directly call the inner join provided by Pandas, check whether your results above are exactly the same.(10points)",
      "metadata": {}
    },
    {
      "cell_type": "code",
      "source": "inner_join2 = pd.merge(transit_data, vessel_data, on='mmsi', how='inner')",
      "metadata": {
        "trusted": true
      },
      "execution_count": 28,
      "outputs": []
    },
    {
      "cell_type": "code",
      "source": "are_equal = inner_join1.equals(inner_join2)\nprint(are_equal)",
      "metadata": {
        "trusted": true
      },
      "execution_count": 27,
      "outputs": [
        {
          "name": "stdout",
          "text": "True\n",
          "output_type": "stream"
        }
      ]
    }
  ]
}