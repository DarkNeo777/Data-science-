{
  "metadata": {
    "nteract": {
      "version": "0.28.0"
    },
    "kernelspec": {
      "name": "python",
      "display_name": "Python (Pyodide)",
      "language": "python"
    },
    "language_info": {
      "codemirror_mode": {
        "name": "python",
        "version": 3
      },
      "file_extension": ".py",
      "mimetype": "text/x-python",
      "name": "python",
      "nbconvert_exporter": "python",
      "pygments_lexer": "ipython3",
      "version": "3.8"
    }
  },
  "nbformat_minor": 4,
  "nbformat": 4,
  "cells": [
    {
      "cell_type": "markdown",
      "source": "## Submit your completed assignment during class time before 9:15AM. (20 points) \n\nAny late submission will lose 20 points. \n\nSubmissions later than today's midnight 11:59PM will have no credit.",
      "metadata": {}
    },
    {
      "cell_type": "code",
      "source": "%matplotlib inline\nimport matplotlib.pyplot as plt\nimport pandas as pd\nimport numpy as np\nimport math",
      "metadata": {
        "trusted": true
      },
      "execution_count": 33,
      "outputs": []
    },
    {
      "cell_type": "markdown",
      "source": "#### Download the data in your local computer and read the csv (5 points)",
      "metadata": {}
    },
    {
      "cell_type": "code",
      "source": "spreadsheet = pd.read_csv('data.csv')\n",
      "metadata": {
        "trusted": true
      },
      "execution_count": 9,
      "outputs": []
    },
    {
      "cell_type": "markdown",
      "source": "#### Show 10 rows of the dataframe (5 points)",
      "metadata": {}
    },
    {
      "cell_type": "code",
      "source": "spreadsheet.head(10)",
      "metadata": {
        "trusted": true
      },
      "execution_count": 10,
      "outputs": [
        {
          "execution_count": 10,
          "output_type": "execute_result",
          "data": {
            "text/plain": "  InvoiceNo StockCode                          Description  Quantity  \\\n0    536365    85123A   WHITE HANGING HEART T-LIGHT HOLDER         6   \n1    536365     71053                  WHITE METAL LANTERN         6   \n2    536365    84406B       CREAM CUPID HEARTS COAT HANGER         8   \n3    536365    84029G  KNITTED UNION FLAG HOT WATER BOTTLE         6   \n4    536365    84029E       RED WOOLLY HOTTIE WHITE HEART.         6   \n5    536365     22752         SET 7 BABUSHKA NESTING BOXES         2   \n6    536365     21730    GLASS STAR FROSTED T-LIGHT HOLDER         6   \n7    536366     22633               HAND WARMER UNION JACK         6   \n8    536366     22632            HAND WARMER RED POLKA DOT         6   \n9    536367     84879        ASSORTED COLOUR BIRD ORNAMENT        32   \n\n      InvoiceDate  UnitPrice  CustomerID         Country  \n0  12/1/2010 8:26       2.55     17850.0  United Kingdom  \n1  12/1/2010 8:26       3.39     17850.0  United Kingdom  \n2  12/1/2010 8:26       2.75     17850.0  United Kingdom  \n3  12/1/2010 8:26       3.39     17850.0  United Kingdom  \n4  12/1/2010 8:26       3.39     17850.0  United Kingdom  \n5  12/1/2010 8:26       7.65     17850.0  United Kingdom  \n6  12/1/2010 8:26       4.25     17850.0  United Kingdom  \n7  12/1/2010 8:28       1.85     17850.0  United Kingdom  \n8  12/1/2010 8:28       1.85     17850.0  United Kingdom  \n9  12/1/2010 8:34       1.69     13047.0  United Kingdom  ",
            "text/html": "<div>\n<style scoped>\n    .dataframe tbody tr th:only-of-type {\n        vertical-align: middle;\n    }\n\n    .dataframe tbody tr th {\n        vertical-align: top;\n    }\n\n    .dataframe thead th {\n        text-align: right;\n    }\n</style>\n<table border=\"1\" class=\"dataframe\">\n  <thead>\n    <tr style=\"text-align: right;\">\n      <th></th>\n      <th>InvoiceNo</th>\n      <th>StockCode</th>\n      <th>Description</th>\n      <th>Quantity</th>\n      <th>InvoiceDate</th>\n      <th>UnitPrice</th>\n      <th>CustomerID</th>\n      <th>Country</th>\n    </tr>\n  </thead>\n  <tbody>\n    <tr>\n      <th>0</th>\n      <td>536365</td>\n      <td>85123A</td>\n      <td>WHITE HANGING HEART T-LIGHT HOLDER</td>\n      <td>6</td>\n      <td>12/1/2010 8:26</td>\n      <td>2.55</td>\n      <td>17850.0</td>\n      <td>United Kingdom</td>\n    </tr>\n    <tr>\n      <th>1</th>\n      <td>536365</td>\n      <td>71053</td>\n      <td>WHITE METAL LANTERN</td>\n      <td>6</td>\n      <td>12/1/2010 8:26</td>\n      <td>3.39</td>\n      <td>17850.0</td>\n      <td>United Kingdom</td>\n    </tr>\n    <tr>\n      <th>2</th>\n      <td>536365</td>\n      <td>84406B</td>\n      <td>CREAM CUPID HEARTS COAT HANGER</td>\n      <td>8</td>\n      <td>12/1/2010 8:26</td>\n      <td>2.75</td>\n      <td>17850.0</td>\n      <td>United Kingdom</td>\n    </tr>\n    <tr>\n      <th>3</th>\n      <td>536365</td>\n      <td>84029G</td>\n      <td>KNITTED UNION FLAG HOT WATER BOTTLE</td>\n      <td>6</td>\n      <td>12/1/2010 8:26</td>\n      <td>3.39</td>\n      <td>17850.0</td>\n      <td>United Kingdom</td>\n    </tr>\n    <tr>\n      <th>4</th>\n      <td>536365</td>\n      <td>84029E</td>\n      <td>RED WOOLLY HOTTIE WHITE HEART.</td>\n      <td>6</td>\n      <td>12/1/2010 8:26</td>\n      <td>3.39</td>\n      <td>17850.0</td>\n      <td>United Kingdom</td>\n    </tr>\n    <tr>\n      <th>5</th>\n      <td>536365</td>\n      <td>22752</td>\n      <td>SET 7 BABUSHKA NESTING BOXES</td>\n      <td>2</td>\n      <td>12/1/2010 8:26</td>\n      <td>7.65</td>\n      <td>17850.0</td>\n      <td>United Kingdom</td>\n    </tr>\n    <tr>\n      <th>6</th>\n      <td>536365</td>\n      <td>21730</td>\n      <td>GLASS STAR FROSTED T-LIGHT HOLDER</td>\n      <td>6</td>\n      <td>12/1/2010 8:26</td>\n      <td>4.25</td>\n      <td>17850.0</td>\n      <td>United Kingdom</td>\n    </tr>\n    <tr>\n      <th>7</th>\n      <td>536366</td>\n      <td>22633</td>\n      <td>HAND WARMER UNION JACK</td>\n      <td>6</td>\n      <td>12/1/2010 8:28</td>\n      <td>1.85</td>\n      <td>17850.0</td>\n      <td>United Kingdom</td>\n    </tr>\n    <tr>\n      <th>8</th>\n      <td>536366</td>\n      <td>22632</td>\n      <td>HAND WARMER RED POLKA DOT</td>\n      <td>6</td>\n      <td>12/1/2010 8:28</td>\n      <td>1.85</td>\n      <td>17850.0</td>\n      <td>United Kingdom</td>\n    </tr>\n    <tr>\n      <th>9</th>\n      <td>536367</td>\n      <td>84879</td>\n      <td>ASSORTED COLOUR BIRD ORNAMENT</td>\n      <td>32</td>\n      <td>12/1/2010 8:34</td>\n      <td>1.69</td>\n      <td>13047.0</td>\n      <td>United Kingdom</td>\n    </tr>\n  </tbody>\n</table>\n</div>"
          },
          "metadata": {}
        }
      ]
    },
    {
      "cell_type": "markdown",
      "source": "#### What is the shape of the data (rows and columns) (5 points)",
      "metadata": {}
    },
    {
      "cell_type": "code",
      "source": "spreadsheet.shape",
      "metadata": {
        "trusted": true
      },
      "execution_count": 11,
      "outputs": [
        {
          "execution_count": 11,
          "output_type": "execute_result",
          "data": {
            "text/plain": "(37309, 8)"
          },
          "metadata": {}
        }
      ]
    },
    {
      "cell_type": "markdown",
      "source": "#### What is the data type of the each column (5 points)",
      "metadata": {}
    },
    {
      "cell_type": "code",
      "source": "spreadsheet.columns",
      "metadata": {
        "trusted": true
      },
      "execution_count": 13,
      "outputs": [
        {
          "execution_count": 13,
          "output_type": "execute_result",
          "data": {
            "text/plain": "Index(['InvoiceNo', 'StockCode', 'Description', 'Quantity', 'InvoiceDate',\n       'UnitPrice', 'CustomerID', 'Country'],\n      dtype='object')"
          },
          "metadata": {}
        }
      ]
    },
    {
      "cell_type": "markdown",
      "source": "The data type is objects",
      "metadata": {}
    },
    {
      "cell_type": "markdown",
      "source": "#### Calculate the average of \"UnitPrice\". (5 points)",
      "metadata": {}
    },
    {
      "cell_type": "code",
      "source": "meanOfUnitPrice = spreadsheet[\"UnitPrice\"].mean()\nmeanOfUnitPrice",
      "metadata": {
        "trusted": true
      },
      "execution_count": 15,
      "outputs": [
        {
          "execution_count": 15,
          "output_type": "execute_result",
          "data": {
            "text/plain": "6.230192988099068"
          },
          "metadata": {}
        }
      ]
    },
    {
      "cell_type": "markdown",
      "source": "#### Create a new DataFrame that includes only the \"France\". (5 points)",
      "metadata": {}
    },
    {
      "cell_type": "code",
      "source": "franceData = spreadsheet[spreadsheet['Country'] == 'France']\nfranceData",
      "metadata": {
        "trusted": true
      },
      "execution_count": 20,
      "outputs": [
        {
          "execution_count": 20,
          "output_type": "execute_result",
          "data": {
            "text/plain": "      InvoiceNo StockCode                          Description  Quantity  \\\n26       536370     22728            ALARM CLOCK BAKELIKE PINK        24   \n27       536370     22727            ALARM CLOCK BAKELIKE RED         24   \n28       536370     22726           ALARM CLOCK BAKELIKE GREEN        12   \n29       536370     21724      PANDA AND BUNNIES STICKER SHEET        12   \n30       536370     21883                     STARS GIFT TAPE         24   \n...         ...       ...                                  ...       ...   \n35206    539435     21731        RED TOADSTOOL LED NIGHT LIGHT        36   \n35207    539435     22326  ROUND SNACK BOXES SET OF4 WOODLAND         12   \n35208    539435     20750             RED RETROSPOT MINI CASES         4   \n35209    539435     21452                  TOADSTOOL MONEY BOX        12   \n35210    539435      POST                              POSTAGE         1   \n\n            InvoiceDate  UnitPrice  CustomerID Country  \n26       12/1/2010 8:45       3.75     12583.0  France  \n27       12/1/2010 8:45       3.75     12583.0  France  \n28       12/1/2010 8:45       3.75     12583.0  France  \n29       12/1/2010 8:45       0.85     12583.0  France  \n30       12/1/2010 8:45       0.65     12583.0  France  \n...                 ...        ...         ...     ...  \n35206  12/17/2010 14:46       1.65     12691.0  France  \n35207  12/17/2010 14:46       2.95     12691.0  France  \n35208  12/17/2010 14:46       7.95     12691.0  France  \n35209  12/17/2010 14:46       2.95     12691.0  France  \n35210  12/17/2010 14:46      18.00     12691.0  France  \n\n[368 rows x 8 columns]",
            "text/html": "<div>\n<style scoped>\n    .dataframe tbody tr th:only-of-type {\n        vertical-align: middle;\n    }\n\n    .dataframe tbody tr th {\n        vertical-align: top;\n    }\n\n    .dataframe thead th {\n        text-align: right;\n    }\n</style>\n<table border=\"1\" class=\"dataframe\">\n  <thead>\n    <tr style=\"text-align: right;\">\n      <th></th>\n      <th>InvoiceNo</th>\n      <th>StockCode</th>\n      <th>Description</th>\n      <th>Quantity</th>\n      <th>InvoiceDate</th>\n      <th>UnitPrice</th>\n      <th>CustomerID</th>\n      <th>Country</th>\n    </tr>\n  </thead>\n  <tbody>\n    <tr>\n      <th>26</th>\n      <td>536370</td>\n      <td>22728</td>\n      <td>ALARM CLOCK BAKELIKE PINK</td>\n      <td>24</td>\n      <td>12/1/2010 8:45</td>\n      <td>3.75</td>\n      <td>12583.0</td>\n      <td>France</td>\n    </tr>\n    <tr>\n      <th>27</th>\n      <td>536370</td>\n      <td>22727</td>\n      <td>ALARM CLOCK BAKELIKE RED</td>\n      <td>24</td>\n      <td>12/1/2010 8:45</td>\n      <td>3.75</td>\n      <td>12583.0</td>\n      <td>France</td>\n    </tr>\n    <tr>\n      <th>28</th>\n      <td>536370</td>\n      <td>22726</td>\n      <td>ALARM CLOCK BAKELIKE GREEN</td>\n      <td>12</td>\n      <td>12/1/2010 8:45</td>\n      <td>3.75</td>\n      <td>12583.0</td>\n      <td>France</td>\n    </tr>\n    <tr>\n      <th>29</th>\n      <td>536370</td>\n      <td>21724</td>\n      <td>PANDA AND BUNNIES STICKER SHEET</td>\n      <td>12</td>\n      <td>12/1/2010 8:45</td>\n      <td>0.85</td>\n      <td>12583.0</td>\n      <td>France</td>\n    </tr>\n    <tr>\n      <th>30</th>\n      <td>536370</td>\n      <td>21883</td>\n      <td>STARS GIFT TAPE</td>\n      <td>24</td>\n      <td>12/1/2010 8:45</td>\n      <td>0.65</td>\n      <td>12583.0</td>\n      <td>France</td>\n    </tr>\n    <tr>\n      <th>...</th>\n      <td>...</td>\n      <td>...</td>\n      <td>...</td>\n      <td>...</td>\n      <td>...</td>\n      <td>...</td>\n      <td>...</td>\n      <td>...</td>\n    </tr>\n    <tr>\n      <th>35206</th>\n      <td>539435</td>\n      <td>21731</td>\n      <td>RED TOADSTOOL LED NIGHT LIGHT</td>\n      <td>36</td>\n      <td>12/17/2010 14:46</td>\n      <td>1.65</td>\n      <td>12691.0</td>\n      <td>France</td>\n    </tr>\n    <tr>\n      <th>35207</th>\n      <td>539435</td>\n      <td>22326</td>\n      <td>ROUND SNACK BOXES SET OF4 WOODLAND</td>\n      <td>12</td>\n      <td>12/17/2010 14:46</td>\n      <td>2.95</td>\n      <td>12691.0</td>\n      <td>France</td>\n    </tr>\n    <tr>\n      <th>35208</th>\n      <td>539435</td>\n      <td>20750</td>\n      <td>RED RETROSPOT MINI CASES</td>\n      <td>4</td>\n      <td>12/17/2010 14:46</td>\n      <td>7.95</td>\n      <td>12691.0</td>\n      <td>France</td>\n    </tr>\n    <tr>\n      <th>35209</th>\n      <td>539435</td>\n      <td>21452</td>\n      <td>TOADSTOOL MONEY BOX</td>\n      <td>12</td>\n      <td>12/17/2010 14:46</td>\n      <td>2.95</td>\n      <td>12691.0</td>\n      <td>France</td>\n    </tr>\n    <tr>\n      <th>35210</th>\n      <td>539435</td>\n      <td>POST</td>\n      <td>POSTAGE</td>\n      <td>1</td>\n      <td>12/17/2010 14:46</td>\n      <td>18.00</td>\n      <td>12691.0</td>\n      <td>France</td>\n    </tr>\n  </tbody>\n</table>\n<p>368 rows × 8 columns</p>\n</div>"
          },
          "metadata": {}
        }
      ]
    },
    {
      "cell_type": "markdown",
      "source": "#### Save this filtered DataFrame to a new CSV file named \"data_France.csv.\" (5 points)",
      "metadata": {}
    },
    {
      "cell_type": "code",
      "source": "franceData.to_csv('data_France.csv', index=False)",
      "metadata": {
        "trusted": true
      },
      "execution_count": 21,
      "outputs": []
    },
    {
      "cell_type": "markdown",
      "source": "#### Are there issues with the data (20 points)",
      "metadata": {}
    },
    {
      "cell_type": "markdown",
      "source": "Is there missing data ",
      "metadata": {}
    },
    {
      "cell_type": "code",
      "source": "missing_data = spreadsheet.isna()\nprint(\"missing data\")\nprint(missing_data_",
      "metadata": {
        "trusted": true
      },
      "execution_count": null,
      "outputs": [
        {
          "name": "stdout",
          "text": "missing data\n       InvoiceNo  StockCode  Description  Quantity  InvoiceDate  UnitPrice  \\\n0          False      False        False     False        False      False   \n1          False      False        False     False        False      False   \n2          False      False        False     False        False      False   \n3          False      False        False     False        False      False   \n4          False      False        False     False        False      False   \n...          ...        ...          ...       ...          ...        ...   \n37304      False      False        False     False        False      False   \n37305      False      False        False     False        False      False   \n37306      False      False        False     False        False      False   \n37307      False      False        False     False        False      False   \n37308      False      False        False     False        False       True   \n\n       CustomerID  Country  \n0           False    False  \n1           False    False  \n2           False    False  \n3           False    False  \n4           False    False  \n...           ...      ...  \n37304       False    False  \n37305       False    False  \n37306       False    False  \n37307       False    False  \n37308        True     True  \n\n[37309 rows x 8 columns]\n",
          "output_type": "stream"
        }
      ]
    },
    {
      "cell_type": "markdown",
      "source": "How many rows have missing data",
      "metadata": {}
    },
    {
      "cell_type": "code",
      "source": "missing_rows = spreadsheet.isna().sum(axis=1)\ncount_missing_rows = (missing_rows > 0).sum()\nprint(count_missing_rows)",
      "metadata": {
        "trusted": true
      },
      "execution_count": 28,
      "outputs": [
        {
          "name": "stdout",
          "text": "12880\n",
          "output_type": "stream"
        }
      ]
    },
    {
      "cell_type": "markdown",
      "source": "What is the percentage of missing data",
      "metadata": {}
    },
    {
      "cell_type": "code",
      "source": "total_cells = spreadsheet.size\npercentage_of_missing_data = (count_missing_rows / total_cells) * 100\nprint(round(percentage_of_missing_data,4), \"%\")",
      "metadata": {
        "scrolled": true,
        "trusted": true
      },
      "execution_count": 36,
      "outputs": [
        {
          "name": "stdout",
          "text": "4.3153 %\n",
          "output_type": "stream"
        }
      ]
    },
    {
      "cell_type": "markdown",
      "source": "Show rows of missing data",
      "metadata": {}
    },
    {
      "cell_type": "code",
      "source": "missing_rows",
      "metadata": {
        "trusted": true
      },
      "execution_count": 37,
      "outputs": [
        {
          "execution_count": 37,
          "output_type": "execute_result",
          "data": {
            "text/plain": "0        0\n1        0\n2        0\n3        0\n4        0\n        ..\n37304    0\n37305    0\n37306    0\n37307    0\n37308    3\nLength: 37309, dtype: int64"
          },
          "metadata": {}
        }
      ]
    },
    {
      "cell_type": "markdown",
      "source": "#### Give the number of transactions by country (5 points)",
      "metadata": {}
    },
    {
      "cell_type": "code",
      "source": "transaction = spreadsheet.groupby('Country').size().reset_index()\ntransaction.columns = ['Country', 'Count']\n\nprint(transaction)\n",
      "metadata": {
        "trusted": true
      },
      "execution_count": 59,
      "outputs": [
        {
          "name": "stdout",
          "text": "            Country  Count\n0         Australia     35\n1           Austria      9\n2           Belgium     42\n3   Channel Islands     17\n4            Cyprus     83\n5           Denmark     20\n6              EIRE    319\n7           Finland     17\n8            France    368\n9           Germany    437\n10          Iceland     31\n11           Israel      2\n12            Italy     25\n13            Japan     65\n14        Lithuania     35\n15      Netherlands      2\n16           Norway    147\n17           Poland      8\n18         Portugal    120\n19            Spain     75\n20           Sweden     27\n21      Switzerland      6\n22   United Kingdom  35418\n",
          "output_type": "stream"
        }
      ]
    },
    {
      "cell_type": "markdown",
      "source": "#### Find the highest valued item in the transactions (5 points)",
      "metadata": {}
    },
    {
      "cell_type": "code",
      "source": "largest_value = spreadsheet['UnitPrice'].idxmax()\nitem_largest_value = spreadsheet.loc[largest_value]\nprint(item_largest_value)",
      "metadata": {
        "trusted": true
      },
      "execution_count": 50,
      "outputs": [
        {
          "name": "stdout",
          "text": "InvoiceNo              C537630\nStockCode            AMAZONFEE\nDescription         AMAZON FEE\nQuantity                    -1\nInvoiceDate    12/7/2010 15:04\nUnitPrice             13541.33\nCustomerID                 NaN\nCountry         United Kingdom\nName: 15016, dtype: object\n",
          "output_type": "stream"
        }
      ]
    },
    {
      "cell_type": "markdown",
      "source": "#### Which customer had the highest number of transactions (5 points)",
      "metadata": {}
    },
    {
      "cell_type": "code",
      "source": "customer_high = spreadsheet['CustomerID'].value_counts().reset_index()\ncustomer_high.columns = ['CustomerID', 'transaction_count']\n\nmost_transactions = customer_high.iloc[0]\nprint(most_transactions)",
      "metadata": {
        "trusted": true
      },
      "execution_count": 52,
      "outputs": [
        {
          "name": "stdout",
          "text": "CustomerID           12748.0\ntransaction_count      644.0\nName: 0, dtype: float64\n",
          "output_type": "stream"
        }
      ]
    },
    {
      "cell_type": "markdown",
      "source": "#### Which customers bought `KNITTED UNION FLAG HOT WATER BOTTLE`  (5 points)",
      "metadata": {}
    },
    {
      "cell_type": "code",
      "source": "item_name = 'KNITTED UNION FLAG HOT WATER BOTTLE'\ncustomer_bought_item = spreadsheet[spreadsheet['Description'] == item_name]\n\ncustomer_bought_item\n",
      "metadata": {
        "trusted": true
      },
      "execution_count": 56,
      "outputs": [
        {
          "execution_count": 56,
          "output_type": "execute_result",
          "data": {
            "text/plain": "      InvoiceNo StockCode                          Description  Quantity  \\\n3        536365    84029G  KNITTED UNION FLAG HOT WATER BOTTLE         6   \n61       536373    84029G  KNITTED UNION FLAG HOT WATER BOTTLE         6   \n78       536375    84029G  KNITTED UNION FLAG HOT WATER BOTTLE         6   \n230      536390    84029G  KNITTED UNION FLAG HOT WATER BOTTLE        24   \n291      536396    84029G  KNITTED UNION FLAG HOT WATER BOTTLE         6   \n...         ...       ...                                  ...       ...   \n36071    539437    84029G  KNITTED UNION FLAG HOT WATER BOTTLE         3   \n36209    539443    84029G  KNITTED UNION FLAG HOT WATER BOTTLE        24   \n36392    539451    84029G  KNITTED UNION FLAG HOT WATER BOTTLE         2   \n36781    539452    84029G  KNITTED UNION FLAG HOT WATER BOTTLE        48   \n36981    539453    84029G  KNITTED UNION FLAG HOT WATER BOTTLE         3   \n\n            InvoiceDate  UnitPrice  CustomerID         Country  \n3        12/1/2010 8:26       3.39     17850.0  United Kingdom  \n61       12/1/2010 9:02       3.39     17850.0  United Kingdom  \n78       12/1/2010 9:32       3.39     17850.0  United Kingdom  \n230     12/1/2010 10:19       3.39     17511.0  United Kingdom  \n291     12/1/2010 10:51       3.39     17850.0  United Kingdom  \n...                 ...        ...         ...             ...  \n36071  12/17/2010 14:54       7.62         NaN  United Kingdom  \n36209  12/17/2010 15:52       3.39     14031.0  United Kingdom  \n36392  12/17/2010 16:59       7.62         NaN  United Kingdom  \n36781  12/17/2010 17:06       3.39     15856.0  United Kingdom  \n36981  12/17/2010 17:08       7.62         NaN  United Kingdom  \n\n[116 rows x 8 columns]",
            "text/html": "<div>\n<style scoped>\n    .dataframe tbody tr th:only-of-type {\n        vertical-align: middle;\n    }\n\n    .dataframe tbody tr th {\n        vertical-align: top;\n    }\n\n    .dataframe thead th {\n        text-align: right;\n    }\n</style>\n<table border=\"1\" class=\"dataframe\">\n  <thead>\n    <tr style=\"text-align: right;\">\n      <th></th>\n      <th>InvoiceNo</th>\n      <th>StockCode</th>\n      <th>Description</th>\n      <th>Quantity</th>\n      <th>InvoiceDate</th>\n      <th>UnitPrice</th>\n      <th>CustomerID</th>\n      <th>Country</th>\n    </tr>\n  </thead>\n  <tbody>\n    <tr>\n      <th>3</th>\n      <td>536365</td>\n      <td>84029G</td>\n      <td>KNITTED UNION FLAG HOT WATER BOTTLE</td>\n      <td>6</td>\n      <td>12/1/2010 8:26</td>\n      <td>3.39</td>\n      <td>17850.0</td>\n      <td>United Kingdom</td>\n    </tr>\n    <tr>\n      <th>61</th>\n      <td>536373</td>\n      <td>84029G</td>\n      <td>KNITTED UNION FLAG HOT WATER BOTTLE</td>\n      <td>6</td>\n      <td>12/1/2010 9:02</td>\n      <td>3.39</td>\n      <td>17850.0</td>\n      <td>United Kingdom</td>\n    </tr>\n    <tr>\n      <th>78</th>\n      <td>536375</td>\n      <td>84029G</td>\n      <td>KNITTED UNION FLAG HOT WATER BOTTLE</td>\n      <td>6</td>\n      <td>12/1/2010 9:32</td>\n      <td>3.39</td>\n      <td>17850.0</td>\n      <td>United Kingdom</td>\n    </tr>\n    <tr>\n      <th>230</th>\n      <td>536390</td>\n      <td>84029G</td>\n      <td>KNITTED UNION FLAG HOT WATER BOTTLE</td>\n      <td>24</td>\n      <td>12/1/2010 10:19</td>\n      <td>3.39</td>\n      <td>17511.0</td>\n      <td>United Kingdom</td>\n    </tr>\n    <tr>\n      <th>291</th>\n      <td>536396</td>\n      <td>84029G</td>\n      <td>KNITTED UNION FLAG HOT WATER BOTTLE</td>\n      <td>6</td>\n      <td>12/1/2010 10:51</td>\n      <td>3.39</td>\n      <td>17850.0</td>\n      <td>United Kingdom</td>\n    </tr>\n    <tr>\n      <th>...</th>\n      <td>...</td>\n      <td>...</td>\n      <td>...</td>\n      <td>...</td>\n      <td>...</td>\n      <td>...</td>\n      <td>...</td>\n      <td>...</td>\n    </tr>\n    <tr>\n      <th>36071</th>\n      <td>539437</td>\n      <td>84029G</td>\n      <td>KNITTED UNION FLAG HOT WATER BOTTLE</td>\n      <td>3</td>\n      <td>12/17/2010 14:54</td>\n      <td>7.62</td>\n      <td>NaN</td>\n      <td>United Kingdom</td>\n    </tr>\n    <tr>\n      <th>36209</th>\n      <td>539443</td>\n      <td>84029G</td>\n      <td>KNITTED UNION FLAG HOT WATER BOTTLE</td>\n      <td>24</td>\n      <td>12/17/2010 15:52</td>\n      <td>3.39</td>\n      <td>14031.0</td>\n      <td>United Kingdom</td>\n    </tr>\n    <tr>\n      <th>36392</th>\n      <td>539451</td>\n      <td>84029G</td>\n      <td>KNITTED UNION FLAG HOT WATER BOTTLE</td>\n      <td>2</td>\n      <td>12/17/2010 16:59</td>\n      <td>7.62</td>\n      <td>NaN</td>\n      <td>United Kingdom</td>\n    </tr>\n    <tr>\n      <th>36781</th>\n      <td>539452</td>\n      <td>84029G</td>\n      <td>KNITTED UNION FLAG HOT WATER BOTTLE</td>\n      <td>48</td>\n      <td>12/17/2010 17:06</td>\n      <td>3.39</td>\n      <td>15856.0</td>\n      <td>United Kingdom</td>\n    </tr>\n    <tr>\n      <th>36981</th>\n      <td>539453</td>\n      <td>84029G</td>\n      <td>KNITTED UNION FLAG HOT WATER BOTTLE</td>\n      <td>3</td>\n      <td>12/17/2010 17:08</td>\n      <td>7.62</td>\n      <td>NaN</td>\n      <td>United Kingdom</td>\n    </tr>\n  </tbody>\n</table>\n<p>116 rows × 8 columns</p>\n</div>"
          },
          "metadata": {}
        }
      ]
    },
    {
      "cell_type": "markdown",
      "source": "#### Show customers who bought `KNITTED UNION FLAG HOT WATER BOTTLE` and `CREAM CUPID HEARTS COAT HANGER` (5 points)",
      "metadata": {}
    },
    {
      "cell_type": "code",
      "source": "items_to_check = ['KNITTED UNION FLAG HOT WATER BOTTLE', 'CREAM CUPID HEARTS COAT HANGER']\ncustomer_bought_items = spreadsheet[spreadsheet['Description'].isin(items_to_check)]\ncounting_customer = customer_bought_items.groupby('CustomerID')['Description'].nunique()\n\ncustomer_bought_both = counting_customer[counting_customer == len(items_to_check)]\nprint(customer_bought_both)\n\n\n",
      "metadata": {
        "trusted": true
      },
      "execution_count": 58,
      "outputs": [
        {
          "name": "stdout",
          "text": "CustomerID\n15808.0    2\n15856.0    2\n17841.0    2\n17850.0    2\nName: Description, dtype: int64\n",
          "output_type": "stream"
        }
      ]
    },
    {
      "cell_type": "markdown",
      "source": "## Delievery: Please upload your notebook and data_France.csv to canvas/Assignments/quiz 1.",
      "metadata": {}
    },
    {
      "cell_type": "code",
      "source": "",
      "metadata": {},
      "execution_count": null,
      "outputs": []
    }
  ]
}