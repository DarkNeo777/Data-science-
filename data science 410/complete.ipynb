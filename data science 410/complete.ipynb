{
 "cells": [
  {
   "cell_type": "markdown",
   "metadata": {},
   "source": [
    "## Submit your completed assignment during class time before 9:15AM. (20 points) \n",
    "\n",
    "Any late submission will lose 20 points. \n",
    "\n",
    "Submissions later than today's midnight 11:59PM will have no credit."
   ]
  },
  {
   "cell_type": "code",
   "execution_count": 33,
   "metadata": {},
   "outputs": [],
   "source": [
    "%matplotlib inline\n",
    "import matplotlib.pyplot as plt\n",
    "import pandas as pd\n",
    "import numpy as np\n",
    "import math"
   ]
  },
  {
   "cell_type": "markdown",
   "metadata": {},
   "source": [
    "#### Download the data in your local computer and read the csv (5 points)"
   ]
  },
  {
   "cell_type": "code",
   "execution_count": 9,
   "metadata": {},
   "outputs": [],
   "source": [
    "spreadsheet = pd.read_csv('data.csv')\n"
   ]
  },
  {
   "cell_type": "markdown",
   "metadata": {},
   "source": [
    "#### Show 10 rows of the dataframe (5 points)"
   ]
  },
  {
   "cell_type": "code",
   "execution_count": 10,
   "metadata": {},
   "outputs": [
    {
     "data": {
      "text/html": [
       "<div>\n",
       "<style scoped>\n",
       "    .dataframe tbody tr th:only-of-type {\n",
       "        vertical-align: middle;\n",
       "    }\n",
       "\n",
       "    .dataframe tbody tr th {\n",
       "        vertical-align: top;\n",
       "    }\n",
       "\n",
       "    .dataframe thead th {\n",
       "        text-align: right;\n",
       "    }\n",
       "</style>\n",
       "<table border=\"1\" class=\"dataframe\">\n",
       "  <thead>\n",
       "    <tr style=\"text-align: right;\">\n",
       "      <th></th>\n",
       "      <th>InvoiceNo</th>\n",
       "      <th>StockCode</th>\n",
       "      <th>Description</th>\n",
       "      <th>Quantity</th>\n",
       "      <th>InvoiceDate</th>\n",
       "      <th>UnitPrice</th>\n",
       "      <th>CustomerID</th>\n",
       "      <th>Country</th>\n",
       "    </tr>\n",
       "  </thead>\n",
       "  <tbody>\n",
       "    <tr>\n",
       "      <th>0</th>\n",
       "      <td>536365</td>\n",
       "      <td>85123A</td>\n",
       "      <td>WHITE HANGING HEART T-LIGHT HOLDER</td>\n",
       "      <td>6</td>\n",
       "      <td>12/1/2010 8:26</td>\n",
       "      <td>2.55</td>\n",
       "      <td>17850.0</td>\n",
       "      <td>United Kingdom</td>\n",
       "    </tr>\n",
       "    <tr>\n",
       "      <th>1</th>\n",
       "      <td>536365</td>\n",
       "      <td>71053</td>\n",
       "      <td>WHITE METAL LANTERN</td>\n",
       "      <td>6</td>\n",
       "      <td>12/1/2010 8:26</td>\n",
       "      <td>3.39</td>\n",
       "      <td>17850.0</td>\n",
       "      <td>United Kingdom</td>\n",
       "    </tr>\n",
       "    <tr>\n",
       "      <th>2</th>\n",
       "      <td>536365</td>\n",
       "      <td>84406B</td>\n",
       "      <td>CREAM CUPID HEARTS COAT HANGER</td>\n",
       "      <td>8</td>\n",
       "      <td>12/1/2010 8:26</td>\n",
       "      <td>2.75</td>\n",
       "      <td>17850.0</td>\n",
       "      <td>United Kingdom</td>\n",
       "    </tr>\n",
       "    <tr>\n",
       "      <th>3</th>\n",
       "      <td>536365</td>\n",
       "      <td>84029G</td>\n",
       "      <td>KNITTED UNION FLAG HOT WATER BOTTLE</td>\n",
       "      <td>6</td>\n",
       "      <td>12/1/2010 8:26</td>\n",
       "      <td>3.39</td>\n",
       "      <td>17850.0</td>\n",
       "      <td>United Kingdom</td>\n",
       "    </tr>\n",
       "    <tr>\n",
       "      <th>4</th>\n",
       "      <td>536365</td>\n",
       "      <td>84029E</td>\n",
       "      <td>RED WOOLLY HOTTIE WHITE HEART.</td>\n",
       "      <td>6</td>\n",
       "      <td>12/1/2010 8:26</td>\n",
       "      <td>3.39</td>\n",
       "      <td>17850.0</td>\n",
       "      <td>United Kingdom</td>\n",
       "    </tr>\n",
       "    <tr>\n",
       "      <th>5</th>\n",
       "      <td>536365</td>\n",
       "      <td>22752</td>\n",
       "      <td>SET 7 BABUSHKA NESTING BOXES</td>\n",
       "      <td>2</td>\n",
       "      <td>12/1/2010 8:26</td>\n",
       "      <td>7.65</td>\n",
       "      <td>17850.0</td>\n",
       "      <td>United Kingdom</td>\n",
       "    </tr>\n",
       "    <tr>\n",
       "      <th>6</th>\n",
       "      <td>536365</td>\n",
       "      <td>21730</td>\n",
       "      <td>GLASS STAR FROSTED T-LIGHT HOLDER</td>\n",
       "      <td>6</td>\n",
       "      <td>12/1/2010 8:26</td>\n",
       "      <td>4.25</td>\n",
       "      <td>17850.0</td>\n",
       "      <td>United Kingdom</td>\n",
       "    </tr>\n",
       "    <tr>\n",
       "      <th>7</th>\n",
       "      <td>536366</td>\n",
       "      <td>22633</td>\n",
       "      <td>HAND WARMER UNION JACK</td>\n",
       "      <td>6</td>\n",
       "      <td>12/1/2010 8:28</td>\n",
       "      <td>1.85</td>\n",
       "      <td>17850.0</td>\n",
       "      <td>United Kingdom</td>\n",
       "    </tr>\n",
       "    <tr>\n",
       "      <th>8</th>\n",
       "      <td>536366</td>\n",
       "      <td>22632</td>\n",
       "      <td>HAND WARMER RED POLKA DOT</td>\n",
       "      <td>6</td>\n",
       "      <td>12/1/2010 8:28</td>\n",
       "      <td>1.85</td>\n",
       "      <td>17850.0</td>\n",
       "      <td>United Kingdom</td>\n",
       "    </tr>\n",
       "    <tr>\n",
       "      <th>9</th>\n",
       "      <td>536367</td>\n",
       "      <td>84879</td>\n",
       "      <td>ASSORTED COLOUR BIRD ORNAMENT</td>\n",
       "      <td>32</td>\n",
       "      <td>12/1/2010 8:34</td>\n",
       "      <td>1.69</td>\n",
       "      <td>13047.0</td>\n",
       "      <td>United Kingdom</td>\n",
       "    </tr>\n",
       "  </tbody>\n",
       "</table>\n",
       "</div>"
      ],
      "text/plain": [
       "  InvoiceNo StockCode                          Description  Quantity  \\\n",
       "0    536365    85123A   WHITE HANGING HEART T-LIGHT HOLDER         6   \n",
       "1    536365     71053                  WHITE METAL LANTERN         6   \n",
       "2    536365    84406B       CREAM CUPID HEARTS COAT HANGER         8   \n",
       "3    536365    84029G  KNITTED UNION FLAG HOT WATER BOTTLE         6   \n",
       "4    536365    84029E       RED WOOLLY HOTTIE WHITE HEART.         6   \n",
       "5    536365     22752         SET 7 BABUSHKA NESTING BOXES         2   \n",
       "6    536365     21730    GLASS STAR FROSTED T-LIGHT HOLDER         6   \n",
       "7    536366     22633               HAND WARMER UNION JACK         6   \n",
       "8    536366     22632            HAND WARMER RED POLKA DOT         6   \n",
       "9    536367     84879        ASSORTED COLOUR BIRD ORNAMENT        32   \n",
       "\n",
       "      InvoiceDate  UnitPrice  CustomerID         Country  \n",
       "0  12/1/2010 8:26       2.55     17850.0  United Kingdom  \n",
       "1  12/1/2010 8:26       3.39     17850.0  United Kingdom  \n",
       "2  12/1/2010 8:26       2.75     17850.0  United Kingdom  \n",
       "3  12/1/2010 8:26       3.39     17850.0  United Kingdom  \n",
       "4  12/1/2010 8:26       3.39     17850.0  United Kingdom  \n",
       "5  12/1/2010 8:26       7.65     17850.0  United Kingdom  \n",
       "6  12/1/2010 8:26       4.25     17850.0  United Kingdom  \n",
       "7  12/1/2010 8:28       1.85     17850.0  United Kingdom  \n",
       "8  12/1/2010 8:28       1.85     17850.0  United Kingdom  \n",
       "9  12/1/2010 8:34       1.69     13047.0  United Kingdom  "
      ]
     },
     "execution_count": 10,
     "metadata": {},
     "output_type": "execute_result"
    }
   ],
   "source": [
    "spreadsheet.head(10)"
   ]
  },
  {
   "cell_type": "markdown",
   "metadata": {},
   "source": [
    "#### What is the shape of the data (rows and columns) (5 points)"
   ]
  },
  {
   "cell_type": "code",
   "execution_count": 11,
   "metadata": {},
   "outputs": [
    {
     "data": {
      "text/plain": [
       "(37309, 8)"
      ]
     },
     "execution_count": 11,
     "metadata": {},
     "output_type": "execute_result"
    }
   ],
   "source": [
    "spreadsheet.shape"
   ]
  },
  {
   "cell_type": "markdown",
   "metadata": {},
   "source": [
    "#### What is the data type of the each column (5 points)"
   ]
  },
  {
   "cell_type": "code",
   "execution_count": 1,
   "metadata": {},
   "outputs": [
    {
     "ename": "NameError",
     "evalue": "name 'spreadsheet' is not defined",
     "output_type": "error",
     "traceback": [
      "\u001b[0;31m---------------------------------------------------------------------------\u001b[0m",
      "\u001b[0;31mNameError\u001b[0m                                 Traceback (most recent call last)",
      "Cell \u001b[0;32mIn[1], line 1\u001b[0m\n\u001b[0;32m----> 1\u001b[0m \u001b[43mspreadsheet\u001b[49m\u001b[38;5;241m.\u001b[39mcolumns\n",
      "\u001b[0;31mNameError\u001b[0m: name 'spreadsheet' is not defined"
     ]
    }
   ],
   "source": [
    "spreadsheet.columns"
   ]
  },
  {
   "cell_type": "markdown",
   "metadata": {},
   "source": [
    "The data type is objects"
   ]
  },
  {
   "cell_type": "markdown",
   "metadata": {},
   "source": [
    "#### Calculate the average of \"UnitPrice\". (5 points)"
   ]
  },
  {
   "cell_type": "code",
   "execution_count": 15,
   "metadata": {},
   "outputs": [
    {
     "data": {
      "text/plain": [
       "6.230192988099068"
      ]
     },
     "execution_count": 15,
     "metadata": {},
     "output_type": "execute_result"
    }
   ],
   "source": [
    "meanOfUnitPrice = spreadsheet[\"UnitPrice\"].mean()\n",
    "meanOfUnitPrice"
   ]
  },
  {
   "cell_type": "markdown",
   "metadata": {},
   "source": [
    "#### Create a new DataFrame that includes only the \"France\". (5 points)"
   ]
  },
  {
   "cell_type": "code",
   "execution_count": 20,
   "metadata": {},
   "outputs": [
    {
     "data": {
      "text/html": [
       "<div>\n",
       "<style scoped>\n",
       "    .dataframe tbody tr th:only-of-type {\n",
       "        vertical-align: middle;\n",
       "    }\n",
       "\n",
       "    .dataframe tbody tr th {\n",
       "        vertical-align: top;\n",
       "    }\n",
       "\n",
       "    .dataframe thead th {\n",
       "        text-align: right;\n",
       "    }\n",
       "</style>\n",
       "<table border=\"1\" class=\"dataframe\">\n",
       "  <thead>\n",
       "    <tr style=\"text-align: right;\">\n",
       "      <th></th>\n",
       "      <th>InvoiceNo</th>\n",
       "      <th>StockCode</th>\n",
       "      <th>Description</th>\n",
       "      <th>Quantity</th>\n",
       "      <th>InvoiceDate</th>\n",
       "      <th>UnitPrice</th>\n",
       "      <th>CustomerID</th>\n",
       "      <th>Country</th>\n",
       "    </tr>\n",
       "  </thead>\n",
       "  <tbody>\n",
       "    <tr>\n",
       "      <th>26</th>\n",
       "      <td>536370</td>\n",
       "      <td>22728</td>\n",
       "      <td>ALARM CLOCK BAKELIKE PINK</td>\n",
       "      <td>24</td>\n",
       "      <td>12/1/2010 8:45</td>\n",
       "      <td>3.75</td>\n",
       "      <td>12583.0</td>\n",
       "      <td>France</td>\n",
       "    </tr>\n",
       "    <tr>\n",
       "      <th>27</th>\n",
       "      <td>536370</td>\n",
       "      <td>22727</td>\n",
       "      <td>ALARM CLOCK BAKELIKE RED</td>\n",
       "      <td>24</td>\n",
       "      <td>12/1/2010 8:45</td>\n",
       "      <td>3.75</td>\n",
       "      <td>12583.0</td>\n",
       "      <td>France</td>\n",
       "    </tr>\n",
       "    <tr>\n",
       "      <th>28</th>\n",
       "      <td>536370</td>\n",
       "      <td>22726</td>\n",
       "      <td>ALARM CLOCK BAKELIKE GREEN</td>\n",
       "      <td>12</td>\n",
       "      <td>12/1/2010 8:45</td>\n",
       "      <td>3.75</td>\n",
       "      <td>12583.0</td>\n",
       "      <td>France</td>\n",
       "    </tr>\n",
       "    <tr>\n",
       "      <th>29</th>\n",
       "      <td>536370</td>\n",
       "      <td>21724</td>\n",
       "      <td>PANDA AND BUNNIES STICKER SHEET</td>\n",
       "      <td>12</td>\n",
       "      <td>12/1/2010 8:45</td>\n",
       "      <td>0.85</td>\n",
       "      <td>12583.0</td>\n",
       "      <td>France</td>\n",
       "    </tr>\n",
       "    <tr>\n",
       "      <th>30</th>\n",
       "      <td>536370</td>\n",
       "      <td>21883</td>\n",
       "      <td>STARS GIFT TAPE</td>\n",
       "      <td>24</td>\n",
       "      <td>12/1/2010 8:45</td>\n",
       "      <td>0.65</td>\n",
       "      <td>12583.0</td>\n",
       "      <td>France</td>\n",
       "    </tr>\n",
       "    <tr>\n",
       "      <th>...</th>\n",
       "      <td>...</td>\n",
       "      <td>...</td>\n",
       "      <td>...</td>\n",
       "      <td>...</td>\n",
       "      <td>...</td>\n",
       "      <td>...</td>\n",
       "      <td>...</td>\n",
       "      <td>...</td>\n",
       "    </tr>\n",
       "    <tr>\n",
       "      <th>35206</th>\n",
       "      <td>539435</td>\n",
       "      <td>21731</td>\n",
       "      <td>RED TOADSTOOL LED NIGHT LIGHT</td>\n",
       "      <td>36</td>\n",
       "      <td>12/17/2010 14:46</td>\n",
       "      <td>1.65</td>\n",
       "      <td>12691.0</td>\n",
       "      <td>France</td>\n",
       "    </tr>\n",
       "    <tr>\n",
       "      <th>35207</th>\n",
       "      <td>539435</td>\n",
       "      <td>22326</td>\n",
       "      <td>ROUND SNACK BOXES SET OF4 WOODLAND</td>\n",
       "      <td>12</td>\n",
       "      <td>12/17/2010 14:46</td>\n",
       "      <td>2.95</td>\n",
       "      <td>12691.0</td>\n",
       "      <td>France</td>\n",
       "    </tr>\n",
       "    <tr>\n",
       "      <th>35208</th>\n",
       "      <td>539435</td>\n",
       "      <td>20750</td>\n",
       "      <td>RED RETROSPOT MINI CASES</td>\n",
       "      <td>4</td>\n",
       "      <td>12/17/2010 14:46</td>\n",
       "      <td>7.95</td>\n",
       "      <td>12691.0</td>\n",
       "      <td>France</td>\n",
       "    </tr>\n",
       "    <tr>\n",
       "      <th>35209</th>\n",
       "      <td>539435</td>\n",
       "      <td>21452</td>\n",
       "      <td>TOADSTOOL MONEY BOX</td>\n",
       "      <td>12</td>\n",
       "      <td>12/17/2010 14:46</td>\n",
       "      <td>2.95</td>\n",
       "      <td>12691.0</td>\n",
       "      <td>France</td>\n",
       "    </tr>\n",
       "    <tr>\n",
       "      <th>35210</th>\n",
       "      <td>539435</td>\n",
       "      <td>POST</td>\n",
       "      <td>POSTAGE</td>\n",
       "      <td>1</td>\n",
       "      <td>12/17/2010 14:46</td>\n",
       "      <td>18.00</td>\n",
       "      <td>12691.0</td>\n",
       "      <td>France</td>\n",
       "    </tr>\n",
       "  </tbody>\n",
       "</table>\n",
       "<p>368 rows × 8 columns</p>\n",
       "</div>"
      ],
      "text/plain": [
       "      InvoiceNo StockCode                          Description  Quantity  \\\n",
       "26       536370     22728            ALARM CLOCK BAKELIKE PINK        24   \n",
       "27       536370     22727            ALARM CLOCK BAKELIKE RED         24   \n",
       "28       536370     22726           ALARM CLOCK BAKELIKE GREEN        12   \n",
       "29       536370     21724      PANDA AND BUNNIES STICKER SHEET        12   \n",
       "30       536370     21883                     STARS GIFT TAPE         24   \n",
       "...         ...       ...                                  ...       ...   \n",
       "35206    539435     21731        RED TOADSTOOL LED NIGHT LIGHT        36   \n",
       "35207    539435     22326  ROUND SNACK BOXES SET OF4 WOODLAND         12   \n",
       "35208    539435     20750             RED RETROSPOT MINI CASES         4   \n",
       "35209    539435     21452                  TOADSTOOL MONEY BOX        12   \n",
       "35210    539435      POST                              POSTAGE         1   \n",
       "\n",
       "            InvoiceDate  UnitPrice  CustomerID Country  \n",
       "26       12/1/2010 8:45       3.75     12583.0  France  \n",
       "27       12/1/2010 8:45       3.75     12583.0  France  \n",
       "28       12/1/2010 8:45       3.75     12583.0  France  \n",
       "29       12/1/2010 8:45       0.85     12583.0  France  \n",
       "30       12/1/2010 8:45       0.65     12583.0  France  \n",
       "...                 ...        ...         ...     ...  \n",
       "35206  12/17/2010 14:46       1.65     12691.0  France  \n",
       "35207  12/17/2010 14:46       2.95     12691.0  France  \n",
       "35208  12/17/2010 14:46       7.95     12691.0  France  \n",
       "35209  12/17/2010 14:46       2.95     12691.0  France  \n",
       "35210  12/17/2010 14:46      18.00     12691.0  France  \n",
       "\n",
       "[368 rows x 8 columns]"
      ]
     },
     "execution_count": 20,
     "metadata": {},
     "output_type": "execute_result"
    }
   ],
   "source": [
    "franceData = spreadsheet[spreadsheet['Country'] == 'France']\n",
    "franceData"
   ]
  },
  {
   "cell_type": "markdown",
   "metadata": {},
   "source": [
    "#### Save this filtered DataFrame to a new CSV file named \"data_France.csv.\" (5 points)"
   ]
  },
  {
   "cell_type": "code",
   "execution_count": 21,
   "metadata": {},
   "outputs": [],
   "source": [
    "franceData.to_csv('data_France.csv', index=False)"
   ]
  },
  {
   "cell_type": "markdown",
   "metadata": {},
   "source": [
    "#### Are there issues with the data (20 points)"
   ]
  },
  {
   "cell_type": "markdown",
   "metadata": {},
   "source": [
    "Is there missing data "
   ]
  },
  {
   "cell_type": "code",
   "execution_count": null,
   "metadata": {},
   "outputs": [
    {
     "name": "stdout",
     "output_type": "stream",
     "text": [
      "missing data\n",
      "       InvoiceNo  StockCode  Description  Quantity  InvoiceDate  UnitPrice  \\\n",
      "0          False      False        False     False        False      False   \n",
      "1          False      False        False     False        False      False   \n",
      "2          False      False        False     False        False      False   \n",
      "3          False      False        False     False        False      False   \n",
      "4          False      False        False     False        False      False   \n",
      "...          ...        ...          ...       ...          ...        ...   \n",
      "37304      False      False        False     False        False      False   \n",
      "37305      False      False        False     False        False      False   \n",
      "37306      False      False        False     False        False      False   \n",
      "37307      False      False        False     False        False      False   \n",
      "37308      False      False        False     False        False       True   \n",
      "\n",
      "       CustomerID  Country  \n",
      "0           False    False  \n",
      "1           False    False  \n",
      "2           False    False  \n",
      "3           False    False  \n",
      "4           False    False  \n",
      "...           ...      ...  \n",
      "37304       False    False  \n",
      "37305       False    False  \n",
      "37306       False    False  \n",
      "37307       False    False  \n",
      "37308        True     True  \n",
      "\n",
      "[37309 rows x 8 columns]\n"
     ]
    }
   ],
   "source": [
    "missing_data = spreadsheet.isna()\n",
    "print(\"missing data\")\n",
    "print(missing_data_"
   ]
  },
  {
   "cell_type": "markdown",
   "metadata": {},
   "source": [
    "How many rows have missing data"
   ]
  },
  {
   "cell_type": "code",
   "execution_count": 28,
   "metadata": {},
   "outputs": [
    {
     "name": "stdout",
     "output_type": "stream",
     "text": [
      "12880\n"
     ]
    }
   ],
   "source": [
    "missing_rows = spreadsheet.isna().sum(axis=1)\n",
    "count_missing_rows = (missing_rows > 0).sum()\n",
    "print(count_missing_rows)"
   ]
  },
  {
   "cell_type": "markdown",
   "metadata": {},
   "source": [
    "What is the percentage of missing data"
   ]
  },
  {
   "cell_type": "code",
   "execution_count": 36,
   "metadata": {
    "scrolled": true
   },
   "outputs": [
    {
     "name": "stdout",
     "output_type": "stream",
     "text": [
      "4.3153 %\n"
     ]
    }
   ],
   "source": [
    "total_cells = spreadsheet.size\n",
    "percentage_of_missing_data = (count_missing_rows / total_cells) * 100\n",
    "print(round(percentage_of_missing_data,4), \"%\")"
   ]
  },
  {
   "cell_type": "markdown",
   "metadata": {},
   "source": [
    "Show rows of missing data"
   ]
  },
  {
   "cell_type": "code",
   "execution_count": 37,
   "metadata": {},
   "outputs": [
    {
     "data": {
      "text/plain": [
       "0        0\n",
       "1        0\n",
       "2        0\n",
       "3        0\n",
       "4        0\n",
       "        ..\n",
       "37304    0\n",
       "37305    0\n",
       "37306    0\n",
       "37307    0\n",
       "37308    3\n",
       "Length: 37309, dtype: int64"
      ]
     },
     "execution_count": 37,
     "metadata": {},
     "output_type": "execute_result"
    }
   ],
   "source": [
    "missing_rows"
   ]
  },
  {
   "cell_type": "markdown",
   "metadata": {},
   "source": [
    "#### Give the number of transactions by country (5 points)"
   ]
  },
  {
   "cell_type": "code",
   "execution_count": 59,
   "metadata": {},
   "outputs": [
    {
     "name": "stdout",
     "output_type": "stream",
     "text": [
      "            Country  Count\n",
      "0         Australia     35\n",
      "1           Austria      9\n",
      "2           Belgium     42\n",
      "3   Channel Islands     17\n",
      "4            Cyprus     83\n",
      "5           Denmark     20\n",
      "6              EIRE    319\n",
      "7           Finland     17\n",
      "8            France    368\n",
      "9           Germany    437\n",
      "10          Iceland     31\n",
      "11           Israel      2\n",
      "12            Italy     25\n",
      "13            Japan     65\n",
      "14        Lithuania     35\n",
      "15      Netherlands      2\n",
      "16           Norway    147\n",
      "17           Poland      8\n",
      "18         Portugal    120\n",
      "19            Spain     75\n",
      "20           Sweden     27\n",
      "21      Switzerland      6\n",
      "22   United Kingdom  35418\n"
     ]
    }
   ],
   "source": [
    "transaction = spreadsheet.groupby('Country').size().reset_index()\n",
    "transaction.columns = ['Country', 'Count']\n",
    "\n",
    "print(transaction)\n"
   ]
  },
  {
   "cell_type": "markdown",
   "metadata": {},
   "source": [
    "#### Find the highest valued item in the transactions (5 points)"
   ]
  },
  {
   "cell_type": "code",
   "execution_count": 50,
   "metadata": {},
   "outputs": [
    {
     "name": "stdout",
     "output_type": "stream",
     "text": [
      "InvoiceNo              C537630\n",
      "StockCode            AMAZONFEE\n",
      "Description         AMAZON FEE\n",
      "Quantity                    -1\n",
      "InvoiceDate    12/7/2010 15:04\n",
      "UnitPrice             13541.33\n",
      "CustomerID                 NaN\n",
      "Country         United Kingdom\n",
      "Name: 15016, dtype: object\n"
     ]
    }
   ],
   "source": [
    "largest_value = spreadsheet['UnitPrice'].idxmax()\n",
    "item_largest_value = spreadsheet.loc[largest_value]\n",
    "print(item_largest_value)"
   ]
  },
  {
   "cell_type": "markdown",
   "metadata": {},
   "source": [
    "#### Which customer had the highest number of transactions (5 points)"
   ]
  },
  {
   "cell_type": "code",
   "execution_count": 52,
   "metadata": {},
   "outputs": [
    {
     "name": "stdout",
     "output_type": "stream",
     "text": [
      "CustomerID           12748.0\n",
      "transaction_count      644.0\n",
      "Name: 0, dtype: float64\n"
     ]
    }
   ],
   "source": [
    "customer_high = spreadsheet['CustomerID'].value_counts().reset_index()\n",
    "customer_high.columns = ['CustomerID', 'transaction_count']\n",
    "\n",
    "most_transactions = customer_high.iloc[0]\n",
    "print(most_transactions)"
   ]
  },
  {
   "cell_type": "markdown",
   "metadata": {},
   "source": [
    "#### Which customers bought `KNITTED UNION FLAG HOT WATER BOTTLE`  (5 points)"
   ]
  },
  {
   "cell_type": "code",
   "execution_count": 56,
   "metadata": {},
   "outputs": [
    {
     "data": {
      "text/html": [
       "<div>\n",
       "<style scoped>\n",
       "    .dataframe tbody tr th:only-of-type {\n",
       "        vertical-align: middle;\n",
       "    }\n",
       "\n",
       "    .dataframe tbody tr th {\n",
       "        vertical-align: top;\n",
       "    }\n",
       "\n",
       "    .dataframe thead th {\n",
       "        text-align: right;\n",
       "    }\n",
       "</style>\n",
       "<table border=\"1\" class=\"dataframe\">\n",
       "  <thead>\n",
       "    <tr style=\"text-align: right;\">\n",
       "      <th></th>\n",
       "      <th>InvoiceNo</th>\n",
       "      <th>StockCode</th>\n",
       "      <th>Description</th>\n",
       "      <th>Quantity</th>\n",
       "      <th>InvoiceDate</th>\n",
       "      <th>UnitPrice</th>\n",
       "      <th>CustomerID</th>\n",
       "      <th>Country</th>\n",
       "    </tr>\n",
       "  </thead>\n",
       "  <tbody>\n",
       "    <tr>\n",
       "      <th>3</th>\n",
       "      <td>536365</td>\n",
       "      <td>84029G</td>\n",
       "      <td>KNITTED UNION FLAG HOT WATER BOTTLE</td>\n",
       "      <td>6</td>\n",
       "      <td>12/1/2010 8:26</td>\n",
       "      <td>3.39</td>\n",
       "      <td>17850.0</td>\n",
       "      <td>United Kingdom</td>\n",
       "    </tr>\n",
       "    <tr>\n",
       "      <th>61</th>\n",
       "      <td>536373</td>\n",
       "      <td>84029G</td>\n",
       "      <td>KNITTED UNION FLAG HOT WATER BOTTLE</td>\n",
       "      <td>6</td>\n",
       "      <td>12/1/2010 9:02</td>\n",
       "      <td>3.39</td>\n",
       "      <td>17850.0</td>\n",
       "      <td>United Kingdom</td>\n",
       "    </tr>\n",
       "    <tr>\n",
       "      <th>78</th>\n",
       "      <td>536375</td>\n",
       "      <td>84029G</td>\n",
       "      <td>KNITTED UNION FLAG HOT WATER BOTTLE</td>\n",
       "      <td>6</td>\n",
       "      <td>12/1/2010 9:32</td>\n",
       "      <td>3.39</td>\n",
       "      <td>17850.0</td>\n",
       "      <td>United Kingdom</td>\n",
       "    </tr>\n",
       "    <tr>\n",
       "      <th>230</th>\n",
       "      <td>536390</td>\n",
       "      <td>84029G</td>\n",
       "      <td>KNITTED UNION FLAG HOT WATER BOTTLE</td>\n",
       "      <td>24</td>\n",
       "      <td>12/1/2010 10:19</td>\n",
       "      <td>3.39</td>\n",
       "      <td>17511.0</td>\n",
       "      <td>United Kingdom</td>\n",
       "    </tr>\n",
       "    <tr>\n",
       "      <th>291</th>\n",
       "      <td>536396</td>\n",
       "      <td>84029G</td>\n",
       "      <td>KNITTED UNION FLAG HOT WATER BOTTLE</td>\n",
       "      <td>6</td>\n",
       "      <td>12/1/2010 10:51</td>\n",
       "      <td>3.39</td>\n",
       "      <td>17850.0</td>\n",
       "      <td>United Kingdom</td>\n",
       "    </tr>\n",
       "    <tr>\n",
       "      <th>...</th>\n",
       "      <td>...</td>\n",
       "      <td>...</td>\n",
       "      <td>...</td>\n",
       "      <td>...</td>\n",
       "      <td>...</td>\n",
       "      <td>...</td>\n",
       "      <td>...</td>\n",
       "      <td>...</td>\n",
       "    </tr>\n",
       "    <tr>\n",
       "      <th>36071</th>\n",
       "      <td>539437</td>\n",
       "      <td>84029G</td>\n",
       "      <td>KNITTED UNION FLAG HOT WATER BOTTLE</td>\n",
       "      <td>3</td>\n",
       "      <td>12/17/2010 14:54</td>\n",
       "      <td>7.62</td>\n",
       "      <td>NaN</td>\n",
       "      <td>United Kingdom</td>\n",
       "    </tr>\n",
       "    <tr>\n",
       "      <th>36209</th>\n",
       "      <td>539443</td>\n",
       "      <td>84029G</td>\n",
       "      <td>KNITTED UNION FLAG HOT WATER BOTTLE</td>\n",
       "      <td>24</td>\n",
       "      <td>12/17/2010 15:52</td>\n",
       "      <td>3.39</td>\n",
       "      <td>14031.0</td>\n",
       "      <td>United Kingdom</td>\n",
       "    </tr>\n",
       "    <tr>\n",
       "      <th>36392</th>\n",
       "      <td>539451</td>\n",
       "      <td>84029G</td>\n",
       "      <td>KNITTED UNION FLAG HOT WATER BOTTLE</td>\n",
       "      <td>2</td>\n",
       "      <td>12/17/2010 16:59</td>\n",
       "      <td>7.62</td>\n",
       "      <td>NaN</td>\n",
       "      <td>United Kingdom</td>\n",
       "    </tr>\n",
       "    <tr>\n",
       "      <th>36781</th>\n",
       "      <td>539452</td>\n",
       "      <td>84029G</td>\n",
       "      <td>KNITTED UNION FLAG HOT WATER BOTTLE</td>\n",
       "      <td>48</td>\n",
       "      <td>12/17/2010 17:06</td>\n",
       "      <td>3.39</td>\n",
       "      <td>15856.0</td>\n",
       "      <td>United Kingdom</td>\n",
       "    </tr>\n",
       "    <tr>\n",
       "      <th>36981</th>\n",
       "      <td>539453</td>\n",
       "      <td>84029G</td>\n",
       "      <td>KNITTED UNION FLAG HOT WATER BOTTLE</td>\n",
       "      <td>3</td>\n",
       "      <td>12/17/2010 17:08</td>\n",
       "      <td>7.62</td>\n",
       "      <td>NaN</td>\n",
       "      <td>United Kingdom</td>\n",
       "    </tr>\n",
       "  </tbody>\n",
       "</table>\n",
       "<p>116 rows × 8 columns</p>\n",
       "</div>"
      ],
      "text/plain": [
       "      InvoiceNo StockCode                          Description  Quantity  \\\n",
       "3        536365    84029G  KNITTED UNION FLAG HOT WATER BOTTLE         6   \n",
       "61       536373    84029G  KNITTED UNION FLAG HOT WATER BOTTLE         6   \n",
       "78       536375    84029G  KNITTED UNION FLAG HOT WATER BOTTLE         6   \n",
       "230      536390    84029G  KNITTED UNION FLAG HOT WATER BOTTLE        24   \n",
       "291      536396    84029G  KNITTED UNION FLAG HOT WATER BOTTLE         6   \n",
       "...         ...       ...                                  ...       ...   \n",
       "36071    539437    84029G  KNITTED UNION FLAG HOT WATER BOTTLE         3   \n",
       "36209    539443    84029G  KNITTED UNION FLAG HOT WATER BOTTLE        24   \n",
       "36392    539451    84029G  KNITTED UNION FLAG HOT WATER BOTTLE         2   \n",
       "36781    539452    84029G  KNITTED UNION FLAG HOT WATER BOTTLE        48   \n",
       "36981    539453    84029G  KNITTED UNION FLAG HOT WATER BOTTLE         3   \n",
       "\n",
       "            InvoiceDate  UnitPrice  CustomerID         Country  \n",
       "3        12/1/2010 8:26       3.39     17850.0  United Kingdom  \n",
       "61       12/1/2010 9:02       3.39     17850.0  United Kingdom  \n",
       "78       12/1/2010 9:32       3.39     17850.0  United Kingdom  \n",
       "230     12/1/2010 10:19       3.39     17511.0  United Kingdom  \n",
       "291     12/1/2010 10:51       3.39     17850.0  United Kingdom  \n",
       "...                 ...        ...         ...             ...  \n",
       "36071  12/17/2010 14:54       7.62         NaN  United Kingdom  \n",
       "36209  12/17/2010 15:52       3.39     14031.0  United Kingdom  \n",
       "36392  12/17/2010 16:59       7.62         NaN  United Kingdom  \n",
       "36781  12/17/2010 17:06       3.39     15856.0  United Kingdom  \n",
       "36981  12/17/2010 17:08       7.62         NaN  United Kingdom  \n",
       "\n",
       "[116 rows x 8 columns]"
      ]
     },
     "execution_count": 56,
     "metadata": {},
     "output_type": "execute_result"
    }
   ],
   "source": [
    "item_name = 'KNITTED UNION FLAG HOT WATER BOTTLE'\n",
    "customer_bought_item = spreadsheet[spreadsheet['Description'] == item_name]\n",
    "\n",
    "customer_bought_item\n"
   ]
  },
  {
   "cell_type": "markdown",
   "metadata": {},
   "source": [
    "#### Show customers who bought `KNITTED UNION FLAG HOT WATER BOTTLE` and `CREAM CUPID HEARTS COAT HANGER` (5 points)"
   ]
  },
  {
   "cell_type": "code",
   "execution_count": 58,
   "metadata": {},
   "outputs": [
    {
     "name": "stdout",
     "output_type": "stream",
     "text": [
      "CustomerID\n",
      "15808.0    2\n",
      "15856.0    2\n",
      "17841.0    2\n",
      "17850.0    2\n",
      "Name: Description, dtype: int64\n"
     ]
    }
   ],
   "source": [
    "items_to_check = ['KNITTED UNION FLAG HOT WATER BOTTLE', 'CREAM CUPID HEARTS COAT HANGER']\n",
    "customer_bought_items = spreadsheet[spreadsheet['Description'].isin(items_to_check)]\n",
    "counting_customer = customer_bought_items.groupby('CustomerID')['Description'].nunique()\n",
    "\n",
    "customer_bought_both = counting_customer[counting_customer == len(items_to_check)]\n",
    "print(customer_bought_both)\n",
    "\n",
    "\n"
   ]
  },
  {
   "cell_type": "markdown",
   "metadata": {},
   "source": [
    "## Delievery: Please upload your notebook and data_France.csv to canvas/Assignments/quiz 1."
   ]
  },
  {
   "cell_type": "code",
   "execution_count": null,
   "metadata": {},
   "outputs": [],
   "source": []
  }
 ],
 "metadata": {
  "kernelspec": {
   "display_name": "Python 3 (ipykernel)",
   "language": "python",
   "name": "python3"
  },
  "language_info": {
   "codemirror_mode": {
    "name": "ipython",
    "version": 3
   },
   "file_extension": ".py",
   "mimetype": "text/x-python",
   "name": "python",
   "nbconvert_exporter": "python",
   "pygments_lexer": "ipython3",
   "version": "3.10.8"
  },
  "nteract": {
   "version": "0.28.0"
  }
 },
 "nbformat": 4,
 "nbformat_minor": 4
}
