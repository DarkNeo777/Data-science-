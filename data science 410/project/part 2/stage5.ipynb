{
 "cells": [
  {
   "cell_type": "code",
   "execution_count": 37,
   "metadata": {},
   "outputs": [
    {
     "name": "stdout",
     "output_type": "stream",
     "text": [
      "Dash app running on http://127.0.0.1:8050/\n"
     ]
    },
    {
     "name": "stderr",
     "output_type": "stream",
     "text": [
      "/home/codespace/.local/lib/python3.10/site-packages/_plotly_utils/basevalidators.py:105: FutureWarning:\n",
      "\n",
      "The behavior of DatetimeProperties.to_pydatetime is deprecated, in a future version this will return a Series containing python datetime objects instead of an ndarray. To retain the old behavior, call `np.array` on the result\n",
      "\n"
     ]
    }
   ],
   "source": [
    "import dash\n",
    "from dash import Dash, html, dcc, Input, Output\n",
    "import plotly.express as px\n",
    "import pandas as pd\n",
    "\n",
    "\n",
    "# Load your data\n",
    "file_path = 'data/weekly_avg_us'  # Replace with your file path\n",
    "df = pd.read_csv(file_path)\n",
    "\n",
    "# Convert date column to datetime\n",
    "df['date'] = pd.to_datetime(df['date'])\n",
    "\n",
    "# Build App\n",
    "app = Dash(__name__)\n",
    "app.layout = html.Div([\n",
    "    html.H1(\"COVID-19 Data Visualization\", style={'text-align': 'center'}),\n",
    "    html.Div([\n",
    "        dcc.Graph(id='graph'),\n",
    "        html.Div([\n",
    "             html.Label(\"Select Date Range:\"),\n",
    "            dcc.DatePickerRange(\n",
    "                id='date-picker-range',\n",
    "                start_date=df['date'].min(),\n",
    "                end_date=df['date'].max(),\n",
    "                display_format='YYYY-MM-DD'\n",
    "            ),\n",
    "            html.Br(),\n",
    "            html.Label(\"Select Data Category:\"),\n",
    "            dcc.RadioItems(\n",
    "                id='data-category',\n",
    "                options=[\n",
    "                    {'label': 'Total Cases', 'value': 'total_cases'},\n",
    "                    {'label': 'Total Deaths', 'value': 'total_deaths'},\n",
    "                    {'label': 'New Cases', 'value': 'new_cases'},\n",
    "                    {'label': 'New Deaths', 'value': 'new_deaths'}\n",
    "                ],\n",
    "                value='total_cases'  # Default value\n",
    "            )\n",
    "           \n",
    "        ], style={'margin-left': '0px', 'justify-content': 'center', 'text-align': 'left', 'display': 'flex', 'flex-direction': 'column'})\n",
    "    ], style={'display': 'flex', 'justify-content': 'center', 'height': '500px', 'background-color': '#f2f2f2'})\n",
    "])\n",
    "\n",
    "# Define callback to update graph\n",
    "@app.callback(\n",
    "    Output('graph', 'figure'),\n",
    "    [Input(\"data-category\", \"value\"),\n",
    "     Input('date-picker-range', 'start_date'),\n",
    "     Input('date-picker-range', 'end_date')]\n",
    ")\n",
    "def update_figure(selected_category, start_date, end_date):\n",
    "    # Filter data based on selected date range\n",
    "    filtered_df = df[(df['date'] >= start_date) & (df['date'] <= end_date)]\n",
    "    return px.line(\n",
    "        filtered_df, x=\"date\", y=selected_category, title=f\"Weekly Average of {selected_category}\"\n",
    "    )\n",
    "# Run app and display result inline in the notebook\n",
    "app.run_server(jupyter_mode='external')"
   ]
  },
  {
   "cell_type": "code",
   "execution_count": null,
   "metadata": {},
   "outputs": [],
   "source": []
  },
  {
   "cell_type": "code",
   "execution_count": null,
   "metadata": {},
   "outputs": [],
   "source": []
  }
 ],
 "metadata": {
  "kernelspec": {
   "display_name": "Python 3",
   "language": "python",
   "name": "python3"
  },
  "language_info": {
   "codemirror_mode": {
    "name": "ipython",
    "version": 3
   },
   "file_extension": ".py",
   "mimetype": "text/x-python",
   "name": "python",
   "nbconvert_exporter": "python",
   "pygments_lexer": "ipython3",
   "version": "3.10.8"
  }
 },
 "nbformat": 4,
 "nbformat_minor": 2
}
