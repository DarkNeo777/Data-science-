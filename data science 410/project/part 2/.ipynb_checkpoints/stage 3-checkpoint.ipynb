{
 "cells": [
  {
   "cell_type": "code",
   "execution_count": null,
   "id": "3734dcc6-b3cc-46cc-a76f-7f16d567c5ba",
   "metadata": {},
   "outputs": [],
   "source": [
    "import numpy as np\n",
    "import pandas as pd\n",
    "from scipy import stats\n",
    "import matplotlib.pyplot as plt\n",
    "from scipy.stats.distributions import gamma\n",
    "\n",
    "# Import our deaths and cases data csv's and previous data from stage 1 and 2\n",
    "covD = pd.read_csv('data/covid_deaths_usafacts.csv')\n",
    "covC = pd.read_csv('data/covid_confirmed_usafacts.csv')\n",
    "covP = pd.read_csv('data/covid_county_population_usafacts.csv')\n",
    "state_cases= pd.read_csv('state_cases.csv')\n",
    "state_cases.head()"
   ]
  },
  {
   "cell_type": "code",
   "execution_count": null,
   "id": "52d0f74e-e010-470f-a120-ce52edd2b5a1",
   "metadata": {},
   "outputs": [],
   "source": [
    "case_drop = ['total_deaths','new_cases','new_deaths']\n",
    "state_cases.drop(case_drop, axis=1, inplace=True)\n"
   ]
  },
  {
   "cell_type": "code",
   "execution_count": null,
   "id": "6830286b-b84b-405d-881c-f5e973b3c78d",
   "metadata": {},
   "outputs": [],
   "source": [
    "state_cases.head()"
   ]
  },
  {
   "cell_type": "code",
   "execution_count": null,
   "id": "3465b737-07bb-465b-b9b3-14672156621b",
   "metadata": {},
   "outputs": [],
   "source": [
    "pivot_df = state_cases.pivot(index='date', columns='State', values='total_cases')\n",
    "pivot_df.head()"
   ]
  },
  {
   "cell_type": "code",
   "execution_count": null,
   "id": "670cb4a4-eb33-41b4-aa0b-57428487edd6",
   "metadata": {},
   "outputs": [],
   "source": []
  }
 ],
 "metadata": {
  "kernelspec": {
   "display_name": "Python 3 (ipykernel)",
   "language": "python",
   "name": "python3"
  },
  "language_info": {
   "codemirror_mode": {
    "name": "ipython",
    "version": 3
   },
   "file_extension": ".py",
   "mimetype": "text/x-python",
   "name": "python",
   "nbconvert_exporter": "python",
   "pygments_lexer": "ipython3",
   "version": "3.10.8"
  }
 },
 "nbformat": 4,
 "nbformat_minor": 5
}
