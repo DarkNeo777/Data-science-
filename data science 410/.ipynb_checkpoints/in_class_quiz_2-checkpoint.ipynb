{
 "cells": [
  {
   "cell_type": "markdown",
   "id": "74e06fd4",
   "metadata": {},
   "source": [
    "# Quiz: Data Munging, Wrangling, Cleaning, and Statistics"
   ]
  },
  {
   "cell_type": "markdown",
   "id": "d0e88364",
   "metadata": {},
   "source": [
    "## Time: 8:00 AM - 9:15 AM. \n",
    "\n",
    "Any submission late than 9:15AM will have a 20% deduction. Submission after the midnight (11:59PM) will be 0."
   ]
  },
  {
   "cell_type": "markdown",
   "id": "b59096a3",
   "metadata": {},
   "source": [
    "### Instructions:\n",
    "\n",
    "This quiz consists of multiple-choice questions (5 points each).\n",
    "Choose the best answer for each question.\n",
    "There is only one correct answer for each question."
   ]
  },
  {
   "cell_type": "markdown",
   "id": "d3b36675",
   "metadata": {},
   "source": [
    "1. What is the primary goal of data munging in data analysis?\n",
    "\n",
    "    a. To visualize data\n",
    "\n",
    "    b. To collect data\n",
    "\n",
    "    c. To clean and preprocess data\n",
    "\n",
    "    d. To perform statistical tests"
   ]
  },
  {
   "cell_type": "markdown",
   "id": "27ec0d1f-53ce-44f5-996d-68cd7527feac",
   "metadata": {},
   "source": [
    "c. To clean and preprocess data"
   ]
  },
  {
   "cell_type": "markdown",
   "id": "c88ab891",
   "metadata": {},
   "source": [
    "2. Which of the following tasks is part of data wrangling?\n",
    "\n",
    "    a. Data visualization\n",
    "\n",
    "    b. Data cleaning and transformation\n",
    "\n",
    "    c. Statistical hypothesis testing\n",
    "\n",
    "    d. Data modeling"
   ]
  },
  {
   "cell_type": "markdown",
   "id": "83333efe-e03c-4e41-a00b-912d61ec200d",
   "metadata": {},
   "source": [
    "b. Data cleaning and transformation"
   ]
  },
  {
   "cell_type": "markdown",
   "id": "4b4c9553",
   "metadata": {},
   "source": [
    "3. Which of the following is an example of missing data handling technique?\n",
    "\n",
    "    a. Ignoring missing data\n",
    "\n",
    "    b. Replacing missing values with zeros\n",
    "\n",
    "    c. Deleting rows with missing data\n",
    "\n",
    "    d. All of the above"
   ]
  },
  {
   "cell_type": "markdown",
   "id": "cf912718-1a8a-4c57-b85f-9ac0acf20aae",
   "metadata": {},
   "source": [
    "d. All of the above"
   ]
  },
  {
   "cell_type": "markdown",
   "id": "d0996587",
   "metadata": {},
   "source": [
    "4. In data cleaning, what is outlier detection and treatment used for?\n",
    "\n",
    "    a. To add noise to the data\n",
    "    \n",
    "    b. To identify missing values\n",
    "    \n",
    "    c. To identify and handle unusual or extreme data points\n",
    "    \n",
    "    d. To create summary statistics"
   ]
  },
  {
   "cell_type": "markdown",
   "id": "23b92cc6-c943-48d4-8a79-3fb2712749b9",
   "metadata": {},
   "source": [
    "c. To identify and handle ususual or extreme data points "
   ]
  },
  {
   "cell_type": "markdown",
   "id": "90254b86",
   "metadata": {},
   "source": [
    "5. What is the main purpose of exploratory data analysis?\n",
    "\n",
    "    a. To make predictions\n",
    "    \n",
    "    b. To visualize data\n",
    "    \n",
    "    c. To clean data\n",
    "    \n",
    "    d. To create machine learning models"
   ]
  },
  {
   "cell_type": "markdown",
   "id": "dabae1fd-69b0-4028-93b1-080ccd6cb458",
   "metadata": {},
   "source": [
    "b. To visualize data"
   ]
  },
  {
   "cell_type": "markdown",
   "id": "e1da948b",
   "metadata": {},
   "source": [
    "6. Which of the following statistical measures represents the central tendency of a dataset?\n",
    "\n",
    "    a. Mean\n",
    "    \n",
    "    b. Standard deviation\n",
    "    \n",
    "    c. Skewness\n",
    "    \n",
    "    d. Variance"
   ]
  },
  {
   "cell_type": "markdown",
   "id": "3d2165cd-aaff-44d1-99b3-10dae2715875",
   "metadata": {},
   "source": [
    "a. Mean"
   ]
  },
  {
   "cell_type": "markdown",
   "id": "ed94f459",
   "metadata": {},
   "source": [
    "7. What does the term \"data normalization\" refer to in data analysis?\n",
    "\n",
    "    a. Converting data into a standard format\n",
    "    \n",
    "    b. Deleting missing values\n",
    "    \n",
    "    c. Removing outliers\n",
    "    \n",
    "    d. Creating summary statistics"
   ]
  },
  {
   "cell_type": "markdown",
   "id": "3950ead2-888c-4b6d-a768-ea0cc4e6254a",
   "metadata": {},
   "source": [
    "a. Converting data into a standard format"
   ]
  },
  {
   "cell_type": "markdown",
   "id": "d4340dd0",
   "metadata": {},
   "source": [
    "8. Which of the following is NOT a common data visualization tool or library?\n",
    "\n",
    "    a. Matplotlib\n",
    "    \n",
    "    b. Seaborn\n",
    "    \n",
    "    c. NumPy\n",
    "    \n",
    "    d. Pandas"
   ]
  },
  {
   "cell_type": "markdown",
   "id": "be07775d-ce63-470c-b430-b5b88e747591",
   "metadata": {},
   "source": [
    "c. NumPy"
   ]
  },
  {
   "cell_type": "markdown",
   "id": "78cd87e0",
   "metadata": {},
   "source": [
    "9. In statistics, what does the p-value represent in hypothesis testing?\n",
    "\n",
    "    a. The probability of making a Type I error\n",
    "    \n",
    "    b. The level of confidence in a result\n",
    "    \n",
    "    c. The effect size of an experiment\n",
    "    \n",
    "    d. The sample size"
   ]
  },
  {
   "cell_type": "markdown",
   "id": "62576577-0706-47c5-8405-2b31c95ea66b",
   "metadata": {},
   "source": [
    "a. The probability of making a Type I error"
   ]
  },
  {
   "cell_type": "markdown",
   "id": "fdfd9846",
   "metadata": {},
   "source": [
    "10. What is the purpose of data imputation in data analysis?\n",
    "\n",
    "    a. To remove outliers\n",
    "    \n",
    "    b. To visualize data\n",
    "    \n",
    "    c. To replace missing values with estimated values\n",
    "    \n",
    "    d. To calculate summary statistics"
   ]
  },
  {
   "cell_type": "markdown",
   "id": "220eb6c7-9d32-49cd-bec9-dddfba3a680b",
   "metadata": {},
   "source": [
    "c. To replace missing values with estimated values"
   ]
  },
  {
   "cell_type": "markdown",
   "id": "b3fa37e9",
   "metadata": {},
   "source": [
    "### Hands-On Coding Task"
   ]
  },
  {
   "cell_type": "markdown",
   "id": "2a48af11",
   "metadata": {},
   "source": [
    "11. Random generate a list of 20 numbers, write Python code to print out the list, the mean, median, mode, variance and stand deviation of these numbers. (10 points)"
   ]
  },
  {
   "cell_type": "code",
   "execution_count": 3,
   "id": "0108bfad",
   "metadata": {},
   "outputs": [
    {
     "data": {
      "text/html": [
       "<div>\n",
       "<style scoped>\n",
       "    .dataframe tbody tr th:only-of-type {\n",
       "        vertical-align: middle;\n",
       "    }\n",
       "\n",
       "    .dataframe tbody tr th {\n",
       "        vertical-align: top;\n",
       "    }\n",
       "\n",
       "    .dataframe thead th {\n",
       "        text-align: right;\n",
       "    }\n",
       "</style>\n",
       "<table border=\"1\" class=\"dataframe\">\n",
       "  <thead>\n",
       "    <tr style=\"text-align: right;\">\n",
       "      <th></th>\n",
       "      <th>Random Numbers</th>\n",
       "    </tr>\n",
       "  </thead>\n",
       "  <tbody>\n",
       "    <tr>\n",
       "      <th>count</th>\n",
       "      <td>20.000000</td>\n",
       "    </tr>\n",
       "    <tr>\n",
       "      <th>mean</th>\n",
       "      <td>43.100000</td>\n",
       "    </tr>\n",
       "    <tr>\n",
       "      <th>std</th>\n",
       "      <td>28.729043</td>\n",
       "    </tr>\n",
       "    <tr>\n",
       "      <th>min</th>\n",
       "      <td>6.000000</td>\n",
       "    </tr>\n",
       "    <tr>\n",
       "      <th>25%</th>\n",
       "      <td>23.250000</td>\n",
       "    </tr>\n",
       "    <tr>\n",
       "      <th>50%</th>\n",
       "      <td>35.000000</td>\n",
       "    </tr>\n",
       "    <tr>\n",
       "      <th>75%</th>\n",
       "      <td>61.750000</td>\n",
       "    </tr>\n",
       "    <tr>\n",
       "      <th>max</th>\n",
       "      <td>93.000000</td>\n",
       "    </tr>\n",
       "  </tbody>\n",
       "</table>\n",
       "</div>"
      ],
      "text/plain": [
       "       Random Numbers\n",
       "count       20.000000\n",
       "mean        43.100000\n",
       "std         28.729043\n",
       "min          6.000000\n",
       "25%         23.250000\n",
       "50%         35.000000\n",
       "75%         61.750000\n",
       "max         93.000000"
      ]
     },
     "execution_count": 3,
     "metadata": {},
     "output_type": "execute_result"
    }
   ],
   "source": [
    "import pandas as pd\n",
    "import random\n",
    "\n",
    "# Generate random number count 20\n",
    "random_numb = [random.randint(1, 100) for _ in range(20)]\n",
    "\n",
    "\n",
    "df = pd.DataFrame({'Random Numbers': random_numb})\n",
    "\n",
    "# Use describe() to calculate summary statistics\n",
    "summary_stats = df.describe()\n",
    "\n",
    "summary_stats\n"
   ]
  },
  {
   "cell_type": "markdown",
   "id": "cbb28e12",
   "metadata": {},
   "source": [
    "12. You have a DataFrame df with a column named \"age\" containing some missing values. Write Python code to replace the missing values in the \"age\" column with the mean age of the non-missing values in that column using pandas.(10 Points)"
   ]
  },
  {
   "cell_type": "code",
   "execution_count": null,
   "id": "776c2084-1bcd-450c-980e-158ed95d4351",
   "metadata": {},
   "outputs": [],
   "source": [
    "\n",
    "# Gets the mean from the column named age\n",
    "mean_age = df['age'].mean()\n",
    "\n",
    "# Replace missing values with the mean age\n",
    "df['age'].fillna(mean_age, inplace=True)\n"
   ]
  },
  {
   "cell_type": "markdown",
   "id": "47b2ad39",
   "metadata": {},
   "source": [
    "13. Given a DataFrame df with a column named \"income,\" write Python code using pandas to calculate the median income. (10 Points)"
   ]
  },
  {
   "cell_type": "code",
   "execution_count": null,
   "id": "1226a0d2",
   "metadata": {},
   "outputs": [],
   "source": [
    "import pandas as pd\n",
    "\n",
    "\n",
    "# Calculate the median income of column income\n",
    "median_income = df['income'].median()\n",
    "\n",
    "# Print the median income\n",
    "median_income\n"
   ]
  },
  {
   "cell_type": "markdown",
   "id": "da7dc1d5",
   "metadata": {},
   "source": [
    "14. Review the list of \"UnitPrice\" in in_class_quiz_1. Write Python code to calculate the 25th, 50th, 75th percentile of these scores.(10 points)"
   ]
  },
  {
   "cell_type": "code",
   "execution_count": null,
   "id": "ce4f6b0e",
   "metadata": {},
   "outputs": [],
   "source": [
    "import numpy as np\n",
    "\n",
    "unit_price = data['UnitPrice']\n",
    "percentiles = np.percentile(unit_price, [25, 50, 75])\n",
    "precentiles"
   ]
  },
  {
   "cell_type": "markdown",
   "id": "e76f4641",
   "metadata": {},
   "source": [
    "15. Generate two matrices A, B of size 8*8, use values between 1 and 10 for simplicity. Print out A, B, the multiplication of A and B, the inverse of A. Do matrix multiplication properties hold true for the matrices you've generated? For instance, is $(A×B)^{−1}$ equal to $B^{−1}× A^{−1}$? Use Python to verify."
   ]
  },
  {
   "cell_type": "code",
   "execution_count": 13,
   "id": "2ec2962c",
   "metadata": {},
   "outputs": [
    {
     "name": "stdout",
     "output_type": "stream",
     "text": [
      "[[ 3  7  5  1  1 10  3  5]\n",
      " [ 3  9  8  6 10  4  6  1]\n",
      " [10  7  5  8  3  5  1  5]\n",
      " [ 4  7  8  8  7  6  5  7]\n",
      " [10  7  7  2  7  7  1  4]\n",
      " [ 6  4  6  6 10  4  2 10]\n",
      " [ 2 10  5 10  2  4  6  3]\n",
      " [ 1  5  1 10  9  9  9  9]]\n",
      "\n",
      "[[ 2  6 10  6  9  9  7  5]\n",
      " [ 4  2  7  3  6  6  1  5]\n",
      " [ 1  6  8  8  8  2  2  8]\n",
      " [ 2  9  6  8  8  7  6  2]\n",
      " [ 2  5  6  4  6  2  7 10]\n",
      " [ 5  2 10  5  8  8  6  6]\n",
      " [ 8  9  4  2  8  7  2  2]\n",
      " [ 6  8  2  1  3 10  3  6]]\n"
     ]
    }
   ],
   "source": [
    "import numpy as np\n",
    "\n",
    "# Generate two 8x8 matrices A and B with values between 1 and 10\n",
    "A = np.random.randint(1, 11, (8, 8))\n",
    "B = np.random.randint(1, 11, (8, 8))\n",
    "\n",
    "print(A)\n",
    "print(\"\")\n",
    "print(B)\n",
    "\n"
   ]
  },
  {
   "cell_type": "code",
   "execution_count": 24,
   "id": "0b3d4485-8bd4-4941-8d57-f22a69f6667f",
   "metadata": {},
   "outputs": [
    {
     "name": "stdout",
     "output_type": "stream",
     "text": [
      "[[147 163 253 152 242 239 132 198]\n",
      " [156 258 319 230 336 243 191 278]\n",
      " [138 250 319 229 317 301 203 233]\n",
      " [186 306 337 248 357 317 215 293]\n",
      " [140 224 341 222 322 277 208 283]\n",
      " [162 290 300 218 312 298 222 298]\n",
      " [159 248 272 205 299 266 153 194]\n",
      " [232 328 311 217 352 354 236 274]]\n"
     ]
    }
   ],
   "source": [
    "# Matrix multiplication of A and B\n",
    "AB = np.dot(A, B)\n",
    "print(AB)"
   ]
  },
  {
   "cell_type": "code",
   "execution_count": 23,
   "id": "1391ad6b-09ee-456e-bdc4-4eb24638b9b3",
   "metadata": {},
   "outputs": [
    {
     "name": "stdout",
     "output_type": "stream",
     "text": [
      "[[-3.86417190e-01 -4.64654900e-01 -4.23897441e-01  2.72206925e-01\n",
      "   7.08847560e-01 -1.88933779e-01  3.38112220e-01  7.22656074e-02]\n",
      " [ 1.50575543e-01  1.20141742e-01  1.08518034e-02 -4.10499707e-01\n",
      "  -9.62352729e-02  2.33943484e-01  1.68564077e-01 -5.71073895e-02]\n",
      " [-5.44576355e-02 -5.79605471e-02 -5.65973006e-02  3.59752629e-01\n",
      "   4.14300546e-02 -1.24660317e-01 -6.63296168e-02 -6.94623753e-02]\n",
      " [ 2.53153072e-01  4.18972600e-01  5.78666546e-01 -1.22619961e-01\n",
      "  -6.69963436e-01  3.77217533e-02 -4.09082291e-01 -2.10942085e-02]\n",
      " [ 1.80912292e-01  3.47887419e-01  2.77750192e-01 -2.67074437e-01\n",
      "  -3.66620774e-01  1.44568456e-01 -2.48025098e-01 -7.56105268e-04]\n",
      " [ 3.85672369e-01  4.56236176e-01  5.62795107e-01 -1.64501422e-01\n",
      "  -6.49013678e-01  8.89270076e-04 -5.09195143e-01  7.52042613e-03]\n",
      " [-7.49693044e-01 -9.52591071e-01 -1.08754570e+00  6.67733490e-01\n",
      "   1.39200785e+00 -3.86896809e-01  7.76567508e-01  1.59542726e-01]\n",
      " [-1.32839796e-01 -3.25734663e-01 -3.48602898e-01  5.79244346e-02\n",
      "   3.38130276e-01  1.04401210e-01  3.11343836e-01 -3.43068659e-04]]\n"
     ]
    }
   ],
   "source": [
    "#Inverse of A\n",
    "A_inverse = np.linalg.inv(A)\n",
    "print(A_inverse)"
   ]
  },
  {
   "cell_type": "code",
   "execution_count": 25,
   "id": "2eaea552-ea58-45b4-8212-31b5bf5ee59e",
   "metadata": {},
   "outputs": [
    {
     "name": "stdout",
     "output_type": "stream",
     "text": [
      "hold true.\n"
     ]
    }
   ],
   "source": [
    "# Verify matrix multiplication \n",
    "AB_inverse = np.linalg.inv(AB)\n",
    "B_inverse = np.linalg.inv(B)\n",
    "\n",
    "# Check to see if the inverse holds true\n",
    "if np.allclose(AB_inverse, np.dot(B_inverse, A_inverse)):\n",
    "    print(\"hold true.\")\n",
    "else:\n",
    "    print(\"not hold true.\")"
   ]
  },
  {
   "cell_type": "markdown",
   "id": "1a4bb6ce",
   "metadata": {},
   "source": [
    "Remember to submit the notebook to Canvas successfully once you have completed the quiz"
   ]
  }
 ],
 "metadata": {
  "kernelspec": {
   "display_name": "Python 3 (ipykernel)",
   "language": "python",
   "name": "python3"
  },
  "language_info": {
   "codemirror_mode": {
    "name": "ipython",
    "version": 3
   },
   "file_extension": ".py",
   "mimetype": "text/x-python",
   "name": "python",
   "nbconvert_exporter": "python",
   "pygments_lexer": "ipython3",
   "version": "3.10.8"
  }
 },
 "nbformat": 4,
 "nbformat_minor": 5
}
