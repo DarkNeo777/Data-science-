{
 "cells": [
  {
   "cell_type": "markdown",
   "id": "db39bea8-84c9-4152-9317-2ef540204d22",
   "metadata": {
    "tags": []
   },
   "source": [
    "# all method that 🐼pandas lets you use on a DataFrame\n",
    "\n",
    "https://www.w3schools.com/python/pandas/pandas_ref_dataframe.asp"
   ]
  },
  {
   "cell_type": "code",
   "execution_count": null,
   "id": "9ec0997f-4097-4f9e-b3e3-189255003f00",
   "metadata": {},
   "outputs": [],
   "source": [
    "import pandas as pd"
   ]
  },
  {
   "cell_type": "markdown",
   "id": "5277598a-67dc-4ae1-b37f-a18c338f94a9",
   "metadata": {},
   "source": [
    "## WHAT  is a series?\n",
    "series is like a column in a table. It is a one dimensional array that can hold data of any type"
   ]
  },
  {
   "cell_type": "code",
   "execution_count": 44,
   "id": "5ad88ded-1685-4782-aadc-24011d4a53aa",
   "metadata": {},
   "outputs": [
    {
     "name": "stdout",
     "output_type": "stream",
     "text": [
      "x    1\n",
      "y    2\n",
      "z    4\n",
      "dtype: int64\n"
     ]
    }
   ],
   "source": [
    "a = [1,2,4]\n",
    "myvary = pd.Series(a, index = [\"x\", \"y\", \"z\"])\n",
    "print(myvary)\n"
   ]
  },
  {
   "cell_type": "markdown",
   "id": "a3c1325b-db1e-4529-a898-bcc94093d9a1",
   "metadata": {},
   "source": [
    "adding indext is creating a label\n",
    "\n",
    "##### you can also convert a dictionary into a series\n"
   ]
  },
  {
   "cell_type": "code",
   "execution_count": 14,
   "id": "b2b9f065-8dae-41ff-baf2-baa0afa406db",
   "metadata": {},
   "outputs": [
    {
     "name": "stdout",
     "output_type": "stream",
     "text": [
      "day1    420\n",
      "day2    380\n",
      "day3    390\n",
      "dtype: int64\n"
     ]
    }
   ],
   "source": [
    "calories = {\"day1\": 420, \"day2\": 380, \"day3\": 390}\n",
    "\n",
    "myvar = pd.Series(calories)\n",
    "print(myvar)"
   ]
  },
  {
   "cell_type": "markdown",
   "id": "60342031-ec2d-4faa-b9e4-3876136ec9a5",
   "metadata": {},
   "source": [
    "# Dataframes\n",
    "usually multi-dimensional tables \n",
    "series is like a column, a data frame is the whole table\n",
    "having columns and rows "
   ]
  },
  {
   "cell_type": "code",
   "execution_count": 15,
   "id": "b444b544-8fda-4cab-a2a3-6dd1dd365e34",
   "metadata": {},
   "outputs": [
    {
     "name": "stdout",
     "output_type": "stream",
     "text": [
      "   calories  duration\n",
      "0       420        50\n",
      "1       380        40\n",
      "2       390        45\n"
     ]
    }
   ],
   "source": [
    "data = {\n",
    "  \"calories\": [420, 380, 390],\n",
    "  \"duration\": [50, 40, 45]\n",
    "}\n",
    "\n",
    "#load data into a DataFrame object:\n",
    "df = pd.DataFrame(data)\n",
    "\n",
    "print(df) "
   ]
  },
  {
   "cell_type": "markdown",
   "id": "4150a313-3774-4712-970e-9a130637072a",
   "metadata": {},
   "source": [
    "loc returns a specific row\n",
    "just insert index\n",
    "returning a series"
   ]
  },
  {
   "cell_type": "code",
   "execution_count": 20,
   "id": "cf0ad6ff-4e21-4663-9a04-fc7bf7779ac4",
   "metadata": {},
   "outputs": [
    {
     "name": "stdout",
     "output_type": "stream",
     "text": [
      "calories    420\n",
      "duration     50\n",
      "Name: 0, dtype: int64\n"
     ]
    }
   ],
   "source": [
    "print(df.loc[0])"
   ]
  },
  {
   "cell_type": "markdown",
   "id": "dfb8e88e-330c-49e7-8d88-bf3a0d854db8",
   "metadata": {},
   "source": [
    "using double brackets will return a dataframe\n",
    "whichi in this case is the first two values of the dataframe"
   ]
  },
  {
   "cell_type": "code",
   "execution_count": null,
   "id": "7b4dfca5-8fb7-4d6c-976e-6cbfdb2dcfda",
   "metadata": {},
   "outputs": [
    {
     "name": "stdout",
     "output_type": "stream",
     "text": [
      "   calories  duration\n",
      "0       420        50\n",
      "1       380        40\n"
     ]
    }
   ],
   "source": [
    "print(df.loc[[0,1]])"
   ]
  },
  {
   "cell_type": "markdown",
   "id": "16bc5458-ba7b-4ab8-a17c-4a5fc39d0e28",
   "metadata": {},
   "source": [
    "# import files and Reading CSV Files"
   ]
  },
  {
   "cell_type": "code",
   "execution_count": null,
   "id": "fb9135ef-e837-4a11-affc-74f18a93f8c8",
   "metadata": {},
   "outputs": [],
   "source": [
    "df = pd.read_csv('data.csv')\n",
    "print(df.to_string()) "
   ]
  },
  {
   "cell_type": "markdown",
   "id": "1f2fa3a5-f898-4a1e-94b6-3f8a8ca6635f",
   "metadata": {},
   "source": [
    "To check the max number of rows print will show you can use\n",
    "you can increase this same = #"
   ]
  },
  {
   "cell_type": "code",
   "execution_count": 28,
   "id": "91d8a21e-2ba2-48f6-9fba-a5e469499c3f",
   "metadata": {},
   "outputs": [
    {
     "data": {
      "text/plain": [
       "60"
      ]
     },
     "execution_count": 28,
     "metadata": {},
     "output_type": "execute_result"
    }
   ],
   "source": [
    "pd.options.display.max_rows"
   ]
  },
  {
   "cell_type": "markdown",
   "id": "27f13823-d98c-426d-9101-3e97f52e812d",
   "metadata": {},
   "source": [
    "# import json files can also be done using pandas"
   ]
  },
  {
   "cell_type": "code",
   "execution_count": 29,
   "id": "eba60b0f-9f94-4b92-bd55-d587466918ca",
   "metadata": {},
   "outputs": [],
   "source": [
    "\n",
    "#df = pd.read_json('data.json')\n",
    "\n",
    "#print(df.to_string()) "
   ]
  },
  {
   "cell_type": "markdown",
   "id": "fe88de71-120f-4b50-ae4f-55faf2e83003",
   "metadata": {},
   "source": [
    "again the data can that is in dictionary form can be turned into a datafram"
   ]
  },
  {
   "cell_type": "markdown",
   "id": "a7a8c2a6-d047-49fb-9c35-b74134f1949c",
   "metadata": {},
   "source": [
    "## quick view data can be done using "
   ]
  },
  {
   "cell_type": "code",
   "execution_count": 30,
   "id": "0a288b6e-4cbc-4b15-8a9f-5e1835630a99",
   "metadata": {},
   "outputs": [
    {
     "name": "stdout",
     "output_type": "stream",
     "text": [
      "   calories  duration\n",
      "0       420        50\n",
      "1       380        40\n",
      "2       390        45\n"
     ]
    }
   ],
   "source": [
    "print(df.head())"
   ]
  },
  {
   "cell_type": "markdown",
   "id": "f1b8b78e-2f62-4bf0-a248-e3440580a103",
   "metadata": {},
   "source": [
    "### can also be used on info() to get more information"
   ]
  },
  {
   "cell_type": "code",
   "execution_count": 36,
   "id": "41cf70fe-a52d-4117-8feb-314aa8d42573",
   "metadata": {},
   "outputs": [
    {
     "name": "stdout",
     "output_type": "stream",
     "text": [
      "<class 'pandas.core.frame.DataFrame'>\n",
      "RangeIndex: 3 entries, 0 to 2\n",
      "Data columns (total 2 columns):\n",
      " #   Column    Non-Null Count  Dtype\n",
      "---  ------    --------------  -----\n",
      " 0   calories  3 non-null      int64\n",
      " 1   duration  3 non-null      int64\n",
      "dtypes: int64(2)\n",
      "memory usage: 120.0 bytes\n"
     ]
    }
   ],
   "source": [
    "df.info()"
   ]
  },
  {
   "cell_type": "code",
   "execution_count": 41,
   "id": "f15b5623-c0fd-4cb6-ae47-0d684aa8e1d8",
   "metadata": {},
   "outputs": [
    {
     "data": {
      "text/html": [
       "<div>\n",
       "<style scoped>\n",
       "    .dataframe tbody tr th:only-of-type {\n",
       "        vertical-align: middle;\n",
       "    }\n",
       "\n",
       "    .dataframe tbody tr th {\n",
       "        vertical-align: top;\n",
       "    }\n",
       "\n",
       "    .dataframe thead th {\n",
       "        text-align: right;\n",
       "    }\n",
       "</style>\n",
       "<table border=\"1\" class=\"dataframe\">\n",
       "  <thead>\n",
       "    <tr style=\"text-align: right;\">\n",
       "      <th></th>\n",
       "      <th>calories</th>\n",
       "      <th>duration</th>\n",
       "    </tr>\n",
       "  </thead>\n",
       "  <tbody>\n",
       "    <tr>\n",
       "      <th>0</th>\n",
       "      <td>420</td>\n",
       "      <td>50</td>\n",
       "    </tr>\n",
       "    <tr>\n",
       "      <th>1</th>\n",
       "      <td>380</td>\n",
       "      <td>40</td>\n",
       "    </tr>\n",
       "    <tr>\n",
       "      <th>2</th>\n",
       "      <td>390</td>\n",
       "      <td>45</td>\n",
       "    </tr>\n",
       "  </tbody>\n",
       "</table>\n",
       "</div>"
      ],
      "text/plain": [
       "   calories  duration\n",
       "0       420        50\n",
       "1       380        40\n",
       "2       390        45"
      ]
     },
     "execution_count": 41,
     "metadata": {},
     "output_type": "execute_result"
    }
   ],
   "source": [
    "df"
   ]
  },
  {
   "cell_type": "markdown",
   "id": "f3b74a5f-294d-4c13-aec1-11483646309e",
   "metadata": {},
   "source": [
    "# Cleaning data using pandas\n",
    "\n",
    "Data cleaning means fixing bad data in your data set.\n",
    "\n",
    "Bad data could be:\n",
    "\n",
    "Empty cells\n",
    "Data in wrong format\n",
    "Wrong data\n",
    "Duplicates"
   ]
  },
  {
   "cell_type": "markdown",
   "id": "fd92ebf4-126a-4bba-aaa1-32596f7f1476",
   "metadata": {},
   "source": [
    "### removing rows:\n",
    "deal with empty cells is to remove rows that conatin empty cells\n"
   ]
  },
  {
   "cell_type": "code",
   "execution_count": null,
   "id": "f742faa7-3add-4f8d-8542-2268bd3864dd",
   "metadata": {},
   "outputs": [],
   "source": [
    "new_df = df.dropna()"
   ]
  },
  {
   "cell_type": "markdown",
   "id": "dfdb9723-c50b-4304-a6c8-b20735c3acd3",
   "metadata": {},
   "source": [
    "will not replace or change the OG dataframe, it just returns a new one\n",
    "\n",
    "if you want to you have to us "
   ]
  },
  {
   "cell_type": "code",
   "execution_count": null,
   "id": "45d62428-030c-4744-8c38-019ff8b0a212",
   "metadata": {},
   "outputs": [],
   "source": [
    "df.dropna(inplace = True)"
   ]
  },
  {
   "cell_type": "markdown",
   "id": "365ddafd-2b37-4537-9aec-e8fe3d48324d",
   "metadata": {},
   "source": [
    "you can also replace specific NULL values in a column"
   ]
  },
  {
   "cell_type": "code",
   "execution_count": null,
   "id": "4803f163-110e-4d63-8e5a-90fe37cd93d7",
   "metadata": {},
   "outputs": [],
   "source": [
    "df['calories'].fillna(120, inplace = True)"
   ]
  },
  {
   "cell_type": "markdown",
   "id": "85f952d3-70ec-4cbc-9a1d-a842d5092d87",
   "metadata": {},
   "source": [
    "this makes every null values in the column calories with the values of 120"
   ]
  },
  {
   "cell_type": "markdown",
   "id": "dfc9df9d-7360-4f77-a117-a6bbcff6c418",
   "metadata": {},
   "source": [
    "### many times a rows with a null value is not removed but replaced with the mean, median or mode, This preserves the data without allowing for null values"
   ]
  },
  {
   "cell_type": "code",
   "execution_count": 43,
   "id": "2ac08145-192b-40c4-a172-c6c4d1e23d90",
   "metadata": {},
   "outputs": [],
   "source": [
    "x = df[\"Calories\"].mean()\n",
    "\n",
    "df[\"Calories\"].fillna(x, inplace = True)"
   ]
  },
  {
   "cell_type": "markdown",
   "id": "affbc59a-9758-41fb-acb6-1d83e355e933",
   "metadata": {},
   "source": [
    "# fixing wrong format data"
   ]
  },
  {
   "cell_type": "code",
   "execution_count": null,
   "id": "e2a6a45b-bc30-46f2-8404-ad416b5ef0fd",
   "metadata": {},
   "outputs": [],
   "source": [
    "df = pd.read_csv('data.csv')\n",
    "\n",
    "df['Date'] = pd.to_datetime(df['Date'])\n",
    "\n",
    "print(df.to_string())"
   ]
  },
  {
   "cell_type": "markdown",
   "id": "4aa0c642-b74d-4940-b707-1b936ff8dd11",
   "metadata": {},
   "source": [
    "you can also replace values, wrong values that don't make sense"
   ]
  },
  {
   "cell_type": "code",
   "execution_count": null,
   "id": "65d9a37c-cc2e-4e50-9c63-8e7d29e4bd55",
   "metadata": {},
   "outputs": [],
   "source": [
    "df.loc[7, 'Duration'] = 45"
   ]
  },
  {
   "cell_type": "markdown",
   "id": "bd9af374-d861-46f8-9f17-601e881b16e1",
   "metadata": {},
   "source": [
    "this replaces row 7, column duration, changes value to 45"
   ]
  },
  {
   "cell_type": "code",
   "execution_count": null,
   "id": "8ac8fc03-399c-4dd0-9b47-ce92be3968aa",
   "metadata": {},
   "outputs": [],
   "source": [
    "for x in df.index:\n",
    "  if df.loc[x, \"Duration\"] > 120:\n",
    "    df.loc[x, \"Duration\"] = 120"
   ]
  },
  {
   "cell_type": "markdown",
   "id": "c3686de8-3a85-4d43-91b3-2de40efe30d6",
   "metadata": {},
   "source": [
    "replaces the values geater than 120, in the column duration with the the values that makes sense 120"
   ]
  },
  {
   "cell_type": "markdown",
   "id": "0d33932d-833a-4e46-a95e-de2177b1393a",
   "metadata": {},
   "source": [
    "## removing dupicates\n",
    "can be simples"
   ]
  },
  {
   "cell_type": "code",
   "execution_count": null,
   "id": "03703218-d63f-4d3d-a858-4674cc4ed1ff",
   "metadata": {},
   "outputs": [],
   "source": [
    "print(df.duplicated()) # print boolean values if their exist duplicates\n",
    "df.drop_duplicates(inplace = True)"
   ]
  },
  {
   "cell_type": "markdown",
   "id": "d3c64e0c-fb28-4981-9144-a598f404ef86",
   "metadata": {},
   "source": [
    "# correlation \n",
    "determining if a relationship existes between columns\n",
    "values from 1 to -1\n",
    "1 being positives 1 to 1 correlation, if one goes up the other goes up\n",
    "-1 values being negatives correlation, one goes down the other goes up\n",
    "if the values is close to 0 then their is no or very little relationship or correlation"
   ]
  },
  {
   "cell_type": "code",
   "execution_count": null,
   "id": "69ee8794-0fe8-4048-9dd3-751c83dd2d1c",
   "metadata": {},
   "outputs": [],
   "source": [
    "df.corr()"
   ]
  }
 ],
 "metadata": {
  "kernelspec": {
   "display_name": "Python 3 (ipykernel)",
   "language": "python",
   "name": "python3"
  },
  "language_info": {
   "codemirror_mode": {
    "name": "ipython",
    "version": 3
   },
   "file_extension": ".py",
   "mimetype": "text/x-python",
   "name": "python",
   "nbconvert_exporter": "python",
   "pygments_lexer": "ipython3",
   "version": "3.10.8"
  }
 },
 "nbformat": 4,
 "nbformat_minor": 5
}
